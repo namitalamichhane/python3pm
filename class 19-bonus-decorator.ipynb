{
 "cells": [
  {
   "cell_type": "code",
   "execution_count": 2,
   "id": "9c40b20c",
   "metadata": {},
   "outputs": [
    {
     "name": "stdout",
     "output_type": "stream",
     "text": [
      "Hello World\n"
     ]
    }
   ],
   "source": [
    "def main():\n",
    "    value = \"Hello World\"\n",
    "    def inner_function():\n",
    "        \n",
    "        print(value)\n",
    "    return inner_function()\n",
    "    \n",
    "    \n",
    "main()"
   ]
  },
  {
   "cell_type": "code",
   "execution_count": 4,
   "id": "25754208",
   "metadata": {},
   "outputs": [
    {
     "name": "stdout",
     "output_type": "stream",
     "text": [
      "Hello World\n"
     ]
    }
   ],
   "source": [
    "value= \"Hello World\"\n",
    "\n",
    "def main():\n",
    "    def inner_function():\n",
    "        \n",
    "        print(value)\n",
    "    return inner_function()\n",
    "    \n",
    "    \n",
    "main()"
   ]
  },
  {
   "cell_type": "code",
   "execution_count": 5,
   "id": "9db372ad",
   "metadata": {},
   "outputs": [
    {
     "name": "stdout",
     "output_type": "stream",
     "text": [
      "Hello World\n"
     ]
    }
   ],
   "source": [
    "def outer_function(fun):\n",
    "    def inner_function():\n",
    "        x = fun()\n",
    "    return inner_function()\n",
    "\n",
    "@outer_function\n",
    "def hello():\n",
    "    print(\"Hello World\")                                                                                                                                      "
   ]
  },
  {
   "cell_type": "code",
   "execution_count": 10,
   "id": "de90e3da",
   "metadata": {},
   "outputs": [
    {
     "data": {
      "text/plain": [
       "'hello world'"
      ]
     },
     "execution_count": 10,
     "metadata": {},
     "output_type": "execute_result"
    }
   ],
   "source": [
    "def strings(function):\n",
    "    def wrapper():\n",
    "        fun = function()\n",
    "        x = fun.lower()\n",
    "        return x\n",
    "    return wrapper\n",
    "\n",
    "@strings\n",
    "def info():\n",
    "    return \"HELLO World\"\n",
    "\n",
    "\n",
    "info()\n",
    "# function as an argument"
   ]
  },
  {
   "cell_type": "code",
   "execution_count": 11,
   "id": "b3ab3b76",
   "metadata": {},
   "outputs": [
    {
     "name": "stdout",
     "output_type": "stream",
     "text": [
      "[0, 1, 2, 3, 4, 5, 6, 7, 8, 9, 10, 11, 12, 13, 14, 15, 16, 17, 18, 19]\n"
     ]
    }
   ],
   "source": [
    "# Comprehensions: List, Dictionary\n",
    "a = []\n",
    "for i in range(0,20):\n",
    "    a.append(i)\n",
    "print (a)"
   ]
  },
  {
   "cell_type": "code",
   "execution_count": 16,
   "id": "5a2f0936",
   "metadata": {},
   "outputs": [
    {
     "data": {
      "text/plain": [
       "[0, 1, 2, 3, 4, 5, 6, 7, 8, 9, 10, 11, 12, 13, 14, 15, 16, 17, 18, 19]"
      ]
     },
     "execution_count": 16,
     "metadata": {},
     "output_type": "execute_result"
    }
   ],
   "source": [
    "[i for i in range(0,20)]"
   ]
  },
  {
   "cell_type": "code",
   "execution_count": 17,
   "id": "4cad0b94",
   "metadata": {},
   "outputs": [
    {
     "data": {
      "text/plain": [
       "[0, 2, 4, 6, 8, 10, 12, 14, 16, 18]"
      ]
     },
     "execution_count": 17,
     "metadata": {},
     "output_type": "execute_result"
    }
   ],
   "source": [
    "[i for i in range(0,20) if i%2==0]"
   ]
  },
  {
   "cell_type": "code",
   "execution_count": 19,
   "id": "697d388e",
   "metadata": {},
   "outputs": [
    {
     "data": {
      "text/plain": [
       "[24, 45, 237, 522]"
      ]
     },
     "execution_count": 19,
     "metadata": {},
     "output_type": "execute_result"
    }
   ],
   "source": [
    "a = [24,524,34,45,237,523,2345,2342,34,522]\n",
    "[i for i in a if i%3==0]"
   ]
  },
  {
   "cell_type": "code",
   "execution_count": 20,
   "id": "32c0dece",
   "metadata": {},
   "outputs": [
    {
     "name": "stdout",
     "output_type": "stream",
     "text": [
      "['Apple']\n"
     ]
    }
   ],
   "source": [
    "a= [\"Apple\",\"Ram\",\"Hari\",\"Broadway\",\"Koteshwor\"]\n",
    "b = [i for i in a if i[0]==\"A\"]\n",
    "print(b)"
   ]
  },
  {
   "cell_type": "code",
   "execution_count": 21,
   "id": "3e9fa7b4",
   "metadata": {},
   "outputs": [
    {
     "data": {
      "text/plain": [
       "{1: 1, 2: 4, 3: 9, 4: 16, 5: 25, 6: 36, 7: 49, 8: 64, 9: 81, 10: 100}"
      ]
     },
     "execution_count": 21,
     "metadata": {},
     "output_type": "execute_result"
    }
   ],
   "source": [
    "d = {i: i **2 for i in range(1,11)}\n",
    "d "
   ]
  },
  {
   "cell_type": "code",
   "execution_count": 22,
   "id": "493a3f84",
   "metadata": {},
   "outputs": [
    {
     "data": {
      "text/plain": [
       "{'Apple': 'apple',\n",
       " 'Ram': 'ram',\n",
       " 'Hari': 'hari',\n",
       " 'Broadway': 'broadway',\n",
       " 'Koteshwor': 'koteshwor'}"
      ]
     },
     "execution_count": 22,
     "metadata": {},
     "output_type": "execute_result"
    }
   ],
   "source": [
    "a= [\"Apple\",\"Ram\",\"Hari\",\"Broadway\",\"Koteshwor\"]\n",
    "d = {i: i.lower() for i in a}\n",
    "d"
   ]
  },
  {
   "cell_type": "code",
   "execution_count": 26,
   "id": "a46b0ac9",
   "metadata": {},
   "outputs": [
    {
     "name": "stdout",
     "output_type": "stream",
     "text": [
      "2022-04-26 15:54:29.449265\n"
     ]
    }
   ],
   "source": [
    "import datetime\n",
    "\n",
    "x = datetime.datetime.now()\n",
    "\n",
    "print(x)"
   ]
  },
  {
   "cell_type": "code",
   "execution_count": 25,
   "id": "4baf7561",
   "metadata": {},
   "outputs": [
    {
     "name": "stdout",
     "output_type": "stream",
     "text": [
      "2022\n",
      "Tue Apr 26 15:54:23 2022\n"
     ]
    }
   ],
   "source": [
    "import datetime\n",
    "\n",
    "x = datetime.datetime.now()\n",
    "\n",
    "print (x.year)\n",
    "print (x.strftime(\"%c\"))\n"
   ]
  },
  {
   "cell_type": "code",
   "execution_count": 28,
   "id": "dbfe91bf",
   "metadata": {},
   "outputs": [
    {
     "name": "stdout",
     "output_type": "stream",
     "text": [
      "['A']\n",
      "0:00:00.000659\n"
     ]
    }
   ],
   "source": [
    "import datetime\n",
    "\n",
    "x = datetime.datetime.now()\n",
    "\n",
    "\n",
    "a= [\"A\",\"Ram\",\"Hari\",\"Broadway\",\"Koteshwor\"]\n",
    "b = [i for i in a if i[0]==\"A\"]\n",
    "print(b)\n",
    "\n",
    "\n",
    "y = datetime.datetime.now()\n",
    "\n",
    "print(y-x)"
   ]
  },
  {
   "cell_type": "code",
   "execution_count": null,
   "id": "6e6e0dbe",
   "metadata": {},
   "outputs": [],
   "source": []
  }
 ],
 "metadata": {
  "kernelspec": {
   "display_name": "Python 3 (ipykernel)",
   "language": "python",
   "name": "python3"
  },
  "language_info": {
   "codemirror_mode": {
    "name": "ipython",
    "version": 3
   },
   "file_extension": ".py",
   "mimetype": "text/x-python",
   "name": "python",
   "nbconvert_exporter": "python",
   "pygments_lexer": "ipython3",
   "version": "3.9.7"
  }
 },
 "nbformat": 4,
 "nbformat_minor": 5
}
