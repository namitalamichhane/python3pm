{
 "cells": [
  {
   "cell_type": "code",
   "execution_count": 1,
   "id": "8802436d",
   "metadata": {},
   "outputs": [],
   "source": [
    "# class<class_name>:\n",
    "#     <operations>\n",
    "    \n",
    "# obj = <class_name>()"
   ]
  },
  {
   "cell_type": "code",
   "execution_count": 2,
   "id": "25d78deb",
   "metadata": {},
   "outputs": [
    {
     "name": "stdout",
     "output_type": "stream",
     "text": [
      "Hello World\n"
     ]
    }
   ],
   "source": [
    "class Hello :                         #class\n",
    "    print(\"Hello World\")\n",
    "    \n",
    "obj = Hello()                         #object"
   ]
  },
  {
   "cell_type": "code",
   "execution_count": 10,
   "id": "8379081e",
   "metadata": {},
   "outputs": [
    {
     "name": "stdout",
     "output_type": "stream",
     "text": [
      "Hello World\n"
     ]
    }
   ],
   "source": [
    "class Hello:\n",
    "    def hello(self):\n",
    "        print(\"Hello World\")\n",
    "        \n",
    "obj = Hello()\n",
    "obj.hello()"
   ]
  },
  {
   "cell_type": "code",
   "execution_count": 6,
   "id": "3a509202",
   "metadata": {},
   "outputs": [
    {
     "name": "stdout",
     "output_type": "stream",
     "text": [
      "Hello World\n"
     ]
    }
   ],
   "source": [
    "class Hello:\n",
    "    @staticmethod\n",
    "    def hello():\n",
    "        print(\"Hello World\")\n",
    "        \n",
    "obj = Hello()\n",
    "obj.hello()"
   ]
  },
  {
   "cell_type": "code",
   "execution_count": 12,
   "id": "e14b7da9",
   "metadata": {},
   "outputs": [
    {
     "name": "stdout",
     "output_type": "stream",
     "text": [
      "50\n"
     ]
    }
   ],
   "source": [
    "class Area:\n",
    "    @staticmethod\n",
    "    def area(l,b):\n",
    "        print(l*b)\n",
    "        \n",
    "obj = Area()\n",
    "obj.area(10,5)"
   ]
  },
  {
   "cell_type": "code",
   "execution_count": 13,
   "id": "c41288c7",
   "metadata": {},
   "outputs": [
    {
     "name": "stdout",
     "output_type": "stream",
     "text": [
      "50\n"
     ]
    }
   ],
   "source": [
    "class Area:\n",
    "    def area(self,l,b):\n",
    "        print(l*b)\n",
    "        \n",
    "obj = Area()\n",
    "obj.area(10,5)"
   ]
  },
  {
   "cell_type": "code",
   "execution_count": 19,
   "id": "789deb09",
   "metadata": {},
   "outputs": [
    {
     "name": "stdout",
     "output_type": "stream",
     "text": [
      "50\n",
      "100\n"
     ]
    }
   ],
   "source": [
    "class Cal:\n",
    "    def area(self,l,b):\n",
    "            print(l*b)\n",
    "     \n",
    "    def volume(self,l,b,h):\n",
    "        print(l*b*h)\n",
    "        \n",
    "obj = Cal()\n",
    "obj.area(10,5)\n",
    "obj.volume(10,5,2)\n"
   ]
  },
  {
   "cell_type": "code",
   "execution_count": 23,
   "id": "58377162",
   "metadata": {},
   "outputs": [
    {
     "name": "stdout",
     "output_type": "stream",
     "text": [
      "50\n",
      "100\n"
     ]
    }
   ],
   "source": [
    "class Cal:\n",
    "    def __init__(self,l,b,h):\n",
    "        self.l = l\n",
    "        self.b = b\n",
    "        self.h = h\n",
    "        \n",
    "    def area (self):\n",
    "        print(self.l*self.b)\n",
    "        \n",
    "    def volume (self):\n",
    "        print(self.l*self.b*self.h)\n",
    "        \n",
    "obj = Cal (10,5,2)\n",
    "obj.area()\n",
    "obj.volume()"
   ]
  },
  {
   "cell_type": "code",
   "execution_count": 27,
   "id": "25299b71",
   "metadata": {},
   "outputs": [
    {
     "name": "stdout",
     "output_type": "stream",
     "text": [
      "Enter l =10\n",
      "Enter b = 5\n",
      "Enter h = 2\n",
      "50\n",
      "100\n"
     ]
    }
   ],
   "source": [
    "class Cal:\n",
    "    def __init__(self):\n",
    "        self.l = int(input(\"Enter l = \"))\n",
    "        self.b = int(input(\"Enter b = \"))\n",
    "        self.h = int(input(\"Enter h = \"))\n",
    "        \n",
    "    def area (self):\n",
    "        print(self.l*self.b)\n",
    "        \n",
    "    def volume (self):\n",
    "        print(self.l*self.b*self.h)\n",
    "        \n",
    "obj = Cal ()\n",
    "obj.area()\n",
    "obj.volume()"
   ]
  },
  {
   "cell_type": "code",
   "execution_count": 32,
   "id": "07721aaa",
   "metadata": {},
   "outputs": [
    {
     "name": "stdout",
     "output_type": "stream",
     "text": [
      "50\n",
      "100\n",
      "44\n",
      "88\n"
     ]
    }
   ],
   "source": [
    "class Cal:\n",
    "    def __init__(self,l,b,h):\n",
    "        self.l = l\n",
    "        self.b = b\n",
    "        self.h = h\n",
    "        \n",
    "    def area (self):\n",
    "        print(self.l*self.b)\n",
    "        \n",
    "    def volume (self):\n",
    "        print(self.l*self.b*self.h)\n",
    "        \n",
    "obj = Cal (10,5,2)\n",
    "obj.area()\n",
    "obj.volume()\n",
    "\n",
    "obj1 = Cal(11,4,2)\n",
    "obj1.area()\n",
    "obj1.volume()"
   ]
  },
  {
   "cell_type": "code",
   "execution_count": 35,
   "id": "3b0bfe5d",
   "metadata": {},
   "outputs": [
    {
     "name": "stdout",
     "output_type": "stream",
     "text": [
      "50\n",
      "100\n"
     ]
    }
   ],
   "source": [
    "class Area:\n",
    "    def __init__(self,l,b):\n",
    "        self.l = l\n",
    "        self.b = b\n",
    "        \n",
    "    def area (self):\n",
    "        a = self.l*self.b\n",
    "        print(a)\n",
    "        \n",
    "class Volume:\n",
    "    def __init__(self,l,b,h):\n",
    "        self.l = l\n",
    "        self.b = b\n",
    "        self.h = h\n",
    "    def volume(self):\n",
    "        v = self.l*self.b*self.h\n",
    "        print(v)\n",
    "        \n",
    "obj1 = Area(10,5)\n",
    "obj1.area()\n",
    "\n",
    "obj2 = Volume(10,5,2)\n",
    "obj2.volume()"
   ]
  },
  {
   "cell_type": "code",
   "execution_count": 38,
   "id": "381da341",
   "metadata": {},
   "outputs": [],
   "source": [
    "# WAP to make a data entry application using oop.\n",
    "# WAP to read and write data in using csv and pandas\n"
   ]
  },
  {
   "cell_type": "code",
   "execution_count": 3,
   "id": "30c52c30",
   "metadata": {},
   "outputs": [
    {
     "name": "stdout",
     "output_type": "stream",
     "text": [
      "Ram\n",
      "<class '__main__.Information'>\n"
     ]
    }
   ],
   "source": [
    "class Information:\n",
    "    def __init__ (self,name,age,add):\n",
    "        self.name= name\n",
    "        self.age= age\n",
    "        self.add= add\n",
    "        \n",
    "    def __str__(self):\n",
    "        return self.name\n",
    "    \n",
    "obj = Information(\"Ram\",14,\"Kathmandu\")\n",
    "print (obj)\n",
    "print(type(obj))\n",
    "       "
   ]
  },
  {
   "cell_type": "code",
   "execution_count": 6,
   "id": "ebd89251",
   "metadata": {},
   "outputs": [
    {
     "name": "stdout",
     "output_type": "stream",
     "text": [
      "Ram 14\n",
      "<class '__main__.Information'>\n"
     ]
    }
   ],
   "source": [
    "class Information:\n",
    "    def __init__ (self,name,age,add):\n",
    "        self.name= name\n",
    "        self.age= age\n",
    "        self.add= add\n",
    "        \n",
    "    def __str__(self):\n",
    "        return f\"{self.name} {self.age}\"\n",
    "    \n",
    "obj = Information(\"Ram\",14,\"Kathmandu\")\n",
    "print (obj)\n",
    "print(type(obj))\n",
    "       "
   ]
  },
  {
   "cell_type": "code",
   "execution_count": 10,
   "id": "2397b0cc",
   "metadata": {},
   "outputs": [
    {
     "name": "stdout",
     "output_type": "stream",
     "text": [
      "Ram 14\n",
      "Ram 14\n",
      "Ram 14\n",
      "<class '__main__.Information'>\n",
      "Ram\n",
      "<class '__main__.Information'>\n"
     ]
    }
   ],
   "source": [
    "class Information:\n",
    "    def __init__ (self,name,age,add):\n",
    "        self.name= name\n",
    "        self.age= age\n",
    "        self.add= add\n",
    "        \n",
    "    def hello (self):\n",
    "        return self.name\n",
    "        \n",
    "    def __str__(self):\n",
    "        return f\"{self.name} {self.age}\"\n",
    "    \n",
    "obj = Information(\"Ram\",14,\"Kathmandu\")\n",
    "print (obj)\n",
    "print (obj.__str__())\n",
    "print(str(obj))\n",
    "\n",
    "print(type(obj))\n",
    "print(obj.hello())\n",
    "print (type(obj))"
   ]
  },
  {
   "cell_type": "code",
   "execution_count": 12,
   "id": "c1d6cef3",
   "metadata": {},
   "outputs": [
    {
     "name": "stdout",
     "output_type": "stream",
     "text": [
      "1 5\n"
     ]
    }
   ],
   "source": [
    "class Point:\n",
    "    def __init__(self,x, y):\n",
    "        self.x = x\n",
    "        self.y = y\n",
    "        \n",
    "    def __str__ (self):\n",
    "        return f\"{self.x} {self.y}\"\n",
    "    \n",
    "    def __add__(self,other):\n",
    "        x = self.x+other.x\n",
    "        y = self.y +other.y\n",
    "        return Point(x,y)\n",
    "    \n",
    "p1 = Point(2,3)\n",
    "p2 = Point(-1,2)\n",
    "print(p1+p2)\n",
    "\n",
    "    "
   ]
  },
  {
   "cell_type": "code",
   "execution_count": 22,
   "id": "9815c382",
   "metadata": {},
   "outputs": [
    {
     "name": "stdout",
     "output_type": "stream",
     "text": [
      "This is init function 1000\n",
      "This is init function 2500\n",
      "This is init function 4000\n",
      "This is add function 3500\n",
      "This is init function 3500\n",
      "This is add function 7500\n",
      "This is init function 7500\n",
      "This is str function 7500\n",
      "7500\n"
     ]
    }
   ],
   "source": [
    "class Ecommerce:\n",
    "    def __init__ (self,price):\n",
    "        self.price = price\n",
    "        print('This is init function',self.price)\n",
    "        \n",
    "    def __str__(self):\n",
    "        print(\"This is str function\",self.price)\n",
    "        return str(self.price)\n",
    "    \n",
    "    def __add__(self,other):\n",
    "        s = self.price+other.price\n",
    "        print(\"This is add function\",s)\n",
    "        return Ecommerce(s)\n",
    "    \n",
    "p1 = Ecommerce(1000)\n",
    "p2 = Ecommerce(2500)\n",
    "p3 = Ecommerce(4000)\n",
    "\n",
    "print(p1+p2+p3)\n",
    "\n",
    "        \n",
    "        "
   ]
  },
  {
   "cell_type": "code",
   "execution_count": null,
   "id": "859d4959",
   "metadata": {},
   "outputs": [],
   "source": []
  }
 ],
 "metadata": {
  "kernelspec": {
   "display_name": "Python 3 (ipykernel)",
   "language": "python",
   "name": "python3"
  },
  "language_info": {
   "codemirror_mode": {
    "name": "ipython",
    "version": 3
   },
   "file_extension": ".py",
   "mimetype": "text/x-python",
   "name": "python",
   "nbconvert_exporter": "python",
   "pygments_lexer": "ipython3",
   "version": "3.9.7"
  }
 },
 "nbformat": 4,
 "nbformat_minor": 5
}
