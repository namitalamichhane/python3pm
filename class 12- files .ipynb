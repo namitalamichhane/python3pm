{
 "cells": [
  {
   "cell_type": "code",
   "execution_count": 1,
   "id": "50fb11dd",
   "metadata": {},
   "outputs": [],
   "source": [
    "# open (<file_name>,modes)\n",
    "# modes\n",
    "# create -> x\n",
    "# read -> r\n",
    "# write -> w\n",
    "# append -> a\n"
   ]
  },
  {
   "cell_type": "code",
   "execution_count": 5,
   "id": "9a46ae44",
   "metadata": {},
   "outputs": [
    {
     "name": "stdout",
     "output_type": "stream",
     "text": [
      "The file is already there\n"
     ]
    }
   ],
   "source": [
    "try:\n",
    "    b = open (\"data.txt\",\"x\")\n",
    "    b.close()\n",
    "except:\n",
    "    print(\"The file is already there\")"
   ]
  },
  {
   "cell_type": "code",
   "execution_count": 3,
   "id": "9f30bda8",
   "metadata": {},
   "outputs": [
    {
     "data": {
      "text/plain": [
       "'/home/namita'"
      ]
     },
     "execution_count": 3,
     "metadata": {},
     "output_type": "execute_result"
    }
   ],
   "source": [
    "pwd"
   ]
  },
  {
   "cell_type": "code",
   "execution_count": 10,
   "id": "8f1da4ec",
   "metadata": {},
   "outputs": [
    {
     "name": "stdout",
     "output_type": "stream",
     "text": [
      "1. Hello World\n",
      "2. Hello World\n",
      "3. Hello World\n",
      "4. Hello World\n",
      "5. Hello World\n",
      "6. Hello World\n",
      "7. Hello World\n",
      "8. Hello World\n"
     ]
    }
   ],
   "source": [
    "b = open('data.txt','r')\n",
    "print(b.read())\n",
    "b.close()"
   ]
  },
  {
   "cell_type": "code",
   "execution_count": 11,
   "id": "3194ccaa",
   "metadata": {},
   "outputs": [
    {
     "name": "stdout",
     "output_type": "stream",
     "text": [
      "1. Hello World\n",
      "2. Hello World\n",
      "3. Hello World\n",
      "4. Hello World\n",
      "5. Hello World\n",
      "6. Hello World\n",
      "7. Hello World\n",
      "8. Hello World\n"
     ]
    }
   ],
   "source": [
    "with open('data.txt','r') as b :\n",
    "    print (b.read())"
   ]
  },
  {
   "cell_type": "code",
   "execution_count": 12,
   "id": "b44054db",
   "metadata": {},
   "outputs": [
    {
     "name": "stdout",
     "output_type": "stream",
     "text": [
      "<class 'str'>\n",
      "1. Hello World\n",
      "2. Hello World\n",
      "3. Hello World\n",
      "4. Hello World\n",
      "5. Hello World\n",
      "6. Hello World\n",
      "7. Hello World\n",
      "8. Hello World\n"
     ]
    }
   ],
   "source": [
    "b = open('data.txt','r')\n",
    "x= b.read()\n",
    "print(type(x))\n",
    "print(x)\n",
    "b.close()"
   ]
  },
  {
   "cell_type": "code",
   "execution_count": 17,
   "id": "c632b41e",
   "metadata": {},
   "outputs": [
    {
     "name": "stdout",
     "output_type": "stream",
     "text": [
      "['1. Hello World', '2. Hello World', '3. Hello World', '4. Hello World', '5. Hello World', '6. Hello World', '7. Hello World', '8. Hello World']\n"
     ]
    }
   ],
   "source": [
    "b = open('data.txt','r')\n",
    "x= b.read().split('\\n')\n",
    "print(x)\n",
    "b.close()"
   ]
  },
  {
   "cell_type": "code",
   "execution_count": null,
   "id": "f35d88ef",
   "metadata": {},
   "outputs": [],
   "source": []
  },
  {
   "cell_type": "code",
   "execution_count": 13,
   "id": "81d3e323",
   "metadata": {},
   "outputs": [
    {
     "data": {
      "text/plain": [
       "['Apple', 'Ball', 'Cat', 'Dog']"
      ]
     },
     "execution_count": 13,
     "metadata": {},
     "output_type": "execute_result"
    }
   ],
   "source": [
    "a =\"Apple Ball Cat Dog\"\n",
    "a.split()"
   ]
  },
  {
   "cell_type": "code",
   "execution_count": 14,
   "id": "aae4f564",
   "metadata": {},
   "outputs": [
    {
     "data": {
      "text/plain": [
       "['Apple', 'Ball', 'Cat', 'Dog']"
      ]
     },
     "execution_count": 14,
     "metadata": {},
     "output_type": "execute_result"
    }
   ],
   "source": [
    "a =\"Apple-Ball-Cat-Dog\"\n",
    "a.split('-')"
   ]
  },
  {
   "cell_type": "code",
   "execution_count": 18,
   "id": "3a8beba4",
   "metadata": {},
   "outputs": [
    {
     "name": "stdout",
     "output_type": "stream",
     "text": [
      "Enter line_no1\n",
      "1. Hello World\n"
     ]
    }
   ],
   "source": [
    "line_no = int (input(\"Enter line_no = \"))\n",
    "print(x[line_no-1])"
   ]
  },
  {
   "cell_type": "code",
   "execution_count": 19,
   "id": "13ea6431",
   "metadata": {},
   "outputs": [
    {
     "name": "stdout",
     "output_type": "stream",
     "text": [
      "1. Hello World\n",
      "2. He\n"
     ]
    }
   ],
   "source": [
    "b = open('data.txt','r')\n",
    "print(b.read(20))\n",
    "b.close()"
   ]
  },
  {
   "cell_type": "code",
   "execution_count": 21,
   "id": "1c231b4b",
   "metadata": {},
   "outputs": [],
   "source": [
    "b = open ('datas.txt','w')\n",
    "b.write('Hello World I am Python')\n",
    "b.close()\n"
   ]
  },
  {
   "cell_type": "code",
   "execution_count": 25,
   "id": "46dc7da9",
   "metadata": {},
   "outputs": [
    {
     "name": "stdout",
     "output_type": "stream",
     "text": [
      "Enter name = ram\n",
      "Enter age= 1\n",
      "Enter add =ktm\n",
      "Hello I am ram I am from ktm I am 1\n"
     ]
    }
   ],
   "source": [
    "s= str()\n",
    "name = (input(\"Enter name = \"))\n",
    "age=int(input(\"Enter age= \"))\n",
    "add = input (\"Enter add =\")\n",
    "info = f\"Hello I am {name} I am from {add} I am {age}\"\n",
    "\n",
    "print(info)\n",
    "\n",
    "b = open('datas.txt','w')\n",
    "b.write(info)\n",
    "b.close()\n"
   ]
  },
  {
   "cell_type": "code",
   "execution_count": 26,
   "id": "2fde7060",
   "metadata": {},
   "outputs": [
    {
     "name": "stdout",
     "output_type": "stream",
     "text": [
      "Enter name = ram\n",
      "Enter age= 1\n",
      "Enter add =ktm\n",
      "Hello I am ram I am from ktm I am 1\n"
     ]
    }
   ],
   "source": [
    "s= str()\n",
    "name = (input(\"Enter name = \"))\n",
    "age=int(input(\"Enter age= \"))\n",
    "add = input (\"Enter add =\")\n",
    "info = f\"Hello I am {name} I am from {add} I am {age}\"\n",
    "\n",
    "print(info)\n",
    "\n",
    "b = open('datas.csv','w')\n",
    "b.write(info)\n",
    "b.close()\n"
   ]
  },
  {
   "cell_type": "code",
   "execution_count": 27,
   "id": "975f6793",
   "metadata": {},
   "outputs": [
    {
     "name": "stdout",
     "output_type": "stream",
     "text": [
      "Enter name = ram\n",
      "Enter age= 1\n",
      "Enter add =ktm\n",
      "Hello I am ram I am from ktm I am 1\n",
      "\n"
     ]
    }
   ],
   "source": [
    "s= str()\n",
    "name = (input(\"Enter name = \"))\n",
    "age=int(input(\"Enter age= \"))\n",
    "add = input (\"Enter add =\")\n",
    "info = f\"Hello I am {name} I am from {add} I am {age}\\n\"\n",
    "\n",
    "print(info)\n",
    "\n",
    "b = open('datas.csv','w')\n",
    "b.write(info)\n",
    "b.close()\n"
   ]
  },
  {
   "cell_type": "code",
   "execution_count": 30,
   "id": "1bdfe6ca",
   "metadata": {},
   "outputs": [
    {
     "name": "stdout",
     "output_type": "stream",
     "text": [
      "Enter name = ram\n",
      "Enter age= 12\n",
      "Enter add =pkr\n",
      "ram, pkr, 12\n",
      "\n"
     ]
    }
   ],
   "source": [
    "s= str()\n",
    "name = (input(\"Enter name = \"))\n",
    "age=int(input(\"Enter age= \"))\n",
    "add = input (\"Enter add =\")\n",
    "info = f\"{name}, {add}, {age}\\n\"\n",
    "\n",
    "print(info)\n",
    "\n",
    "b = open('datas.csv','w')\n",
    "b.write('name,age,add\\n')\n",
    "b.write(s)\n",
    "b.close()\n"
   ]
  },
  {
   "cell_type": "code",
   "execution_count": 31,
   "id": "41877288",
   "metadata": {},
   "outputs": [
    {
     "data": {
      "text/html": [
       "<div>\n",
       "<style scoped>\n",
       "    .dataframe tbody tr th:only-of-type {\n",
       "        vertical-align: middle;\n",
       "    }\n",
       "\n",
       "    .dataframe tbody tr th {\n",
       "        vertical-align: top;\n",
       "    }\n",
       "\n",
       "    .dataframe thead th {\n",
       "        text-align: right;\n",
       "    }\n",
       "</style>\n",
       "<table border=\"1\" class=\"dataframe\">\n",
       "  <thead>\n",
       "    <tr style=\"text-align: right;\">\n",
       "      <th></th>\n",
       "      <th>name</th>\n",
       "      <th>age</th>\n",
       "      <th>add</th>\n",
       "    </tr>\n",
       "  </thead>\n",
       "  <tbody>\n",
       "  </tbody>\n",
       "</table>\n",
       "</div>"
      ],
      "text/plain": [
       "Empty DataFrame\n",
       "Columns: [name, age, add]\n",
       "Index: []"
      ]
     },
     "execution_count": 31,
     "metadata": {},
     "output_type": "execute_result"
    }
   ],
   "source": [
    "import pandas as pd\n",
    "df = pd.read_csv('datas.csv')\n",
    "df\n"
   ]
  },
  {
   "cell_type": "code",
   "execution_count": null,
   "id": "61b63594",
   "metadata": {},
   "outputs": [],
   "source": []
  }
 ],
 "metadata": {
  "kernelspec": {
   "display_name": "Python 3 (ipykernel)",
   "language": "python",
   "name": "python3"
  },
  "language_info": {
   "codemirror_mode": {
    "name": "ipython",
    "version": 3
   },
   "file_extension": ".py",
   "mimetype": "text/x-python",
   "name": "python",
   "nbconvert_exporter": "python",
   "pygments_lexer": "ipython3",
   "version": "3.9.7"
  }
 },
 "nbformat": 4,
 "nbformat_minor": 5
}
