{
 "cells": [
  {
   "cell_type": "code",
   "execution_count": 1,
   "id": "c5cbbfa1",
   "metadata": {},
   "outputs": [],
   "source": [
    "# Dictionary\n",
    "# Indexed\n",
    "# Ordered\n",
    "# Multiple data\n",
    "# Mutable"
   ]
  },
  {
   "cell_type": "code",
   "execution_count": 6,
   "id": "685e6474",
   "metadata": {},
   "outputs": [
    {
     "name": "stdout",
     "output_type": "stream",
     "text": [
      "{'a': 'Apple', 'b': 'Ball', 'c': 'Cat'}\n",
      "<class 'dict'>\n"
     ]
    }
   ],
   "source": [
    "# a = {<Key>:<value>,<key>:<value>}\n",
    "a= {'a':\"Apple\",'b':\"Ball\",'c':\"Cat\"}\n",
    "print(a)\n",
    "print(type(a))"
   ]
  },
  {
   "cell_type": "code",
   "execution_count": 7,
   "id": "58d06653",
   "metadata": {},
   "outputs": [
    {
     "name": "stdout",
     "output_type": "stream",
     "text": [
      "Cat\n"
     ]
    }
   ],
   "source": [
    "print(a['c'])"
   ]
  },
  {
   "cell_type": "code",
   "execution_count": 8,
   "id": "bf91f5d4",
   "metadata": {},
   "outputs": [
    {
     "name": "stdout",
     "output_type": "stream",
     "text": [
      "3\n"
     ]
    }
   ],
   "source": [
    "a= {'a':\"Apple\",'b':\"Ball\",'c':\"Cat\"}\n",
    "print(len(a))\n"
   ]
  },
  {
   "cell_type": "code",
   "execution_count": 10,
   "id": "65a886d9",
   "metadata": {},
   "outputs": [
    {
     "name": "stdout",
     "output_type": "stream",
     "text": [
      "{'a': 'Apple', 'b': 'Ball', 'c': 'Cat', 'd': 'Dog'}\n"
     ]
    }
   ],
   "source": [
    "a= {'a':\"Apple\",'b':\"Ball\",'c':\"Cat\"}\n",
    "a['d']=\"Dog\"\n",
    "print(a)"
   ]
  },
  {
   "cell_type": "code",
   "execution_count": 14,
   "id": "e487d036",
   "metadata": {},
   "outputs": [
    {
     "data": {
      "text/plain": [
       "{'a': 'Apple', 'b': 'Ball', 'c': 'Cat'}"
      ]
     },
     "execution_count": 14,
     "metadata": {},
     "output_type": "execute_result"
    }
   ],
   "source": [
    "a={}\n",
    "a['a']=\"Apple\"\n",
    "a['b']=\"Ball\"\n",
    "a['c']=\"Cat\"\n",
    "a\n"
   ]
  },
  {
   "cell_type": "code",
   "execution_count": 18,
   "id": "bb863b0f",
   "metadata": {},
   "outputs": [
    {
     "name": "stdout",
     "output_type": "stream",
     "text": [
      "Enter n= 1\n",
      "Enter name=ram\n",
      "Enter phone=420\n",
      "{'ram': 420}\n"
     ]
    }
   ],
   "source": [
    "data= {}\n",
    "n=int(input(\"Enter n= \"))\n",
    "for i in range (n):\n",
    "    name = input(\"Enter name=\")\n",
    "    phone = int(input(\"Enter phone=\"))\n",
    "    data[name]= phone\n",
    "    \n",
    "print(data)"
   ]
  },
  {
   "cell_type": "code",
   "execution_count": 19,
   "id": "75346e68",
   "metadata": {},
   "outputs": [
    {
     "data": {
      "text/plain": [
       "{'ram': 240}"
      ]
     },
     "execution_count": 19,
     "metadata": {},
     "output_type": "execute_result"
    }
   ],
   "source": [
    "a= {'ram': 420}\n",
    "a['ram']=240\n",
    "a\n",
    "\n"
   ]
  },
  {
   "cell_type": "code",
   "execution_count": 20,
   "id": "e1e1af95",
   "metadata": {},
   "outputs": [
    {
     "name": "stdout",
     "output_type": "stream",
     "text": [
      "ram\n"
     ]
    }
   ],
   "source": [
    "a= {'ram': 420}\n",
    "for i in a:\n",
    "    print(i)"
   ]
  },
  {
   "cell_type": "code",
   "execution_count": 21,
   "id": "671be1cc",
   "metadata": {},
   "outputs": [
    {
     "name": "stdout",
     "output_type": "stream",
     "text": [
      "420\n"
     ]
    }
   ],
   "source": [
    "a= {'ram': 420}\n",
    "for i in a.values():\n",
    "    print(i)"
   ]
  },
  {
   "cell_type": "code",
   "execution_count": 22,
   "id": "f79fc3f6",
   "metadata": {},
   "outputs": [
    {
     "name": "stdout",
     "output_type": "stream",
     "text": [
      "('ram', 420)\n"
     ]
    }
   ],
   "source": [
    "a= {'ram': 420}\n",
    "for i in a.items():\n",
    "    print(i)"
   ]
  },
  {
   "cell_type": "code",
   "execution_count": 23,
   "id": "40e38aca",
   "metadata": {},
   "outputs": [
    {
     "name": "stdout",
     "output_type": "stream",
     "text": [
      "{}\n"
     ]
    }
   ],
   "source": [
    "a= {'ram': 420}\n",
    "del a['ram']\n",
    "print(a)"
   ]
  },
  {
   "cell_type": "code",
   "execution_count": 25,
   "id": "477a805c",
   "metadata": {},
   "outputs": [
    {
     "data": {
      "text/plain": [
       "{}"
      ]
     },
     "execution_count": 25,
     "metadata": {},
     "output_type": "execute_result"
    }
   ],
   "source": [
    "a= {'ram': 420}\n",
    "a.pop('ram')\n",
    "a"
   ]
  },
  {
   "cell_type": "code",
   "execution_count": 26,
   "id": "f3e4fe43",
   "metadata": {},
   "outputs": [
    {
     "name": "stdout",
     "output_type": "stream",
     "text": [
      "{}\n",
      "420\n"
     ]
    }
   ],
   "source": [
    "a= {'ram': 420}\n",
    "b= a.pop('ram')\n",
    "print(a)\n",
    "print(b)\n",
    "\n"
   ]
  },
  {
   "cell_type": "code",
   "execution_count": 1,
   "id": "325af83f",
   "metadata": {},
   "outputs": [
    {
     "name": "stdout",
     "output_type": "stream",
     "text": [
      "Enter n =2\n",
      "Enter name = Ram\n",
      "Enter ntc no =987547444\n",
      "Enter ncell_no = 980347789\n",
      "Enter name = Shyam\n",
      "Enter ntc no =985700843\n",
      "Enter ncell_no = 975561935\n",
      "{'Ram': [987547444, 980347789], 'Shyam': [985700843, 975561935]}\n"
     ]
    }
   ],
   "source": [
    "# list inside dictionary\n",
    "# a= {'ram': [420,987],'shyam': [123,678]}\n",
    "info={}\n",
    "n = int(input(\"Enter n =\"))\n",
    "for i in range (n):\n",
    "    name = input(\"Enter name = \")\n",
    "    ntc_phone = int(input(\"Enter ntc no =\"))\n",
    "    ncell_phone = int(input(\"Enter ncell_no = \"))\n",
    "    info[name] = [ntc_phone,ncell_phone]\n",
    "print(info)\n"
   ]
  },
  {
   "cell_type": "code",
   "execution_count": 3,
   "id": "c78cbe8f",
   "metadata": {},
   "outputs": [
    {
     "data": {
      "text/plain": [
       "987547444"
      ]
     },
     "execution_count": 3,
     "metadata": {},
     "output_type": "execute_result"
    }
   ],
   "source": [
    "a = {'Ram': [987547444, 980347789], 'Shyam': [985700843, 975561935]}\n",
    "a['Ram'][0]"
   ]
  },
  {
   "cell_type": "code",
   "execution_count": 5,
   "id": "5ea11122",
   "metadata": {},
   "outputs": [
    {
     "data": {
      "text/plain": [
       "{'Ram': [987547444, 980347789, 9830040228], 'Shyam': [985700843, 975561935]}"
      ]
     },
     "execution_count": 5,
     "metadata": {},
     "output_type": "execute_result"
    }
   ],
   "source": [
    "a = {'Ram': [987547444, 980347789], 'Shyam': [985700843, 975561935]}\n",
    "a['Ram'].append(9830040228)\n",
    "a\n"
   ]
  },
  {
   "cell_type": "code",
   "execution_count": 6,
   "id": "8250bc33",
   "metadata": {},
   "outputs": [
    {
     "data": {
      "text/plain": [
       "{'Ram': [987547444, 980347789, 9830040228],\n",
       " 'Shyam': [985700843, 975561935],\n",
       " 'Hari': [9823557392, 984587390]}"
      ]
     },
     "execution_count": 6,
     "metadata": {},
     "output_type": "execute_result"
    }
   ],
   "source": [
    "a ['Hari'] = [9823557392, 984587390]\n",
    "a\n"
   ]
  },
  {
   "cell_type": "code",
   "execution_count": 7,
   "id": "b347ef68",
   "metadata": {},
   "outputs": [
    {
     "data": {
      "text/plain": [
       "{'Name': ['Ram', 'Shyam'],\n",
       " 'NTC': [988357989, 8408590473],\n",
       " 'NCELL': [589347549, 57898920]}"
      ]
     },
     "execution_count": 7,
     "metadata": {},
     "output_type": "execute_result"
    }
   ],
   "source": [
    "a = {'Name':[\"Ram\", \"Shyam\"],\"NTC\": [988357989,8408590473],\"NCELL\":[589347549,57898920]}\n",
    "a"
   ]
  },
  {
   "cell_type": "code",
   "execution_count": 9,
   "id": "3c0e12da",
   "metadata": {},
   "outputs": [
    {
     "name": "stdout",
     "output_type": "stream",
     "text": [
      "Enter n =2\n",
      "Enter name = ram\n",
      "Enter ntc_no =132435\n",
      "Enter ncell_no = 1234\n",
      "Enter name = shtyam\n",
      "Enter ntc_no =9876\n",
      "Enter ncell_no = 987654\n",
      "{'Name': ['ram', 'shtyam'], 'NTC': [132435, 9876], 'NCELL': [1234, 987654]}\n"
     ]
    }
   ],
   "source": [
    "info={'Name':[],'NTC':[],'NCELL':[]}\n",
    "\n",
    "n = int(input(\"Enter n =\"))\n",
    "for i in range (n):\n",
    "    name = input(\"Enter name = \")\n",
    "    ntc_phone = int(input(\"Enter ntc_no =\"))\n",
    "    ncell_phone = int(input(\"Enter ncell_no = \"))\n",
    "    info['Name']. append(name)\n",
    "    info ['NTC'].append(ntc_phone)\n",
    "    info['NCELL'].append(ncell_phone)\n",
    "    \n",
    "print(info)\n"
   ]
  },
  {
   "cell_type": "code",
   "execution_count": 10,
   "id": "324f4451",
   "metadata": {},
   "outputs": [],
   "source": [
    "info = [{\"name\":\"ram\",\"age\":23,\"add\":\"ktm\"},\n",
    "       {\"name\":\"shyam\",\"age\":24,\"add\":\"pkr\"},\n",
    "       {\"name\":\"hari\",\"age\":25,\"add\":\"bkt\"},\n",
    "       {\"name\":\"sita\",\"age\":26,\"add\":\"ktm\"}]"
   ]
  },
  {
   "cell_type": "code",
   "execution_count": 11,
   "id": "5b4e7289",
   "metadata": {},
   "outputs": [
    {
     "data": {
      "text/plain": [
       "'ram'"
      ]
     },
     "execution_count": 11,
     "metadata": {},
     "output_type": "execute_result"
    }
   ],
   "source": [
    "info [0]['name']"
   ]
  },
  {
   "cell_type": "code",
   "execution_count": 14,
   "id": "feb0fcce",
   "metadata": {},
   "outputs": [
    {
     "data": {
      "text/plain": [
       "[{'name': 'ram prasad', 'age': 23, 'add': 'ktm'},\n",
       " {'name': 'shyam', 'age': 24, 'add': 'pkr'},\n",
       " {'name': 'hari', 'age': 25, 'add': 'bkt'},\n",
       " {'name': 'sita', 'age': 26, 'add': 'ktm'}]"
      ]
     },
     "execution_count": 14,
     "metadata": {},
     "output_type": "execute_result"
    }
   ],
   "source": [
    "info [0]['name']= 'ram prasad'\n",
    "info"
   ]
  },
  {
   "cell_type": "code",
   "execution_count": 1,
   "id": "820070bf",
   "metadata": {
    "scrolled": false
   },
   "outputs": [
    {
     "name": "stdout",
     "output_type": "stream",
     "text": [
      "Enter n =2\n",
      "Enter name = ram\n",
      "Enter age =34\n",
      "Enter add = ktm\n",
      "Enter name = ram\n",
      "Enter age =32\n",
      "Enter add = pkr\n",
      "[{'name': 'ram', 'age': 34, 'add': 'ktm'}, {'name': 'ram', 'age': 32, 'add': 'pkr'}]\n"
     ]
    }
   ],
   "source": [
    "info= []\n",
    "n = int(input(\"Enter n =\"))\n",
    "for i in range (n):\n",
    "    name = input(\"Enter name = \")\n",
    "    age = int(input(\"Enter age =\"))\n",
    "    add = input(\"Enter add = \")\n",
    "    data={'name':name ,'age': age,'add': add} \n",
    "    info.append(data)\n",
    "    \n",
    "print(info)\n"
   ]
  },
  {
   "cell_type": "code",
   "execution_count": 3,
   "id": "072399cc",
   "metadata": {},
   "outputs": [
    {
     "name": "stdout",
     "output_type": "stream",
     "text": [
      "Enter product name = coke\n",
      "Enter quantity = 2\n",
      "200\n"
     ]
    }
   ],
   "source": [
    "data = {'coke':100,'pizza':150}\n",
    "product = input('Enter product name = ')\n",
    "price = data [product]\n",
    "quantity = int (input(\"Enter quantity = \"))\n",
    "\n",
    "total = price * quantity\n",
    "print (total)"
   ]
  },
  {
   "cell_type": "code",
   "execution_count": 4,
   "id": "08fed728",
   "metadata": {},
   "outputs": [
    {
     "name": "stdout",
     "output_type": "stream",
     "text": [
      "{1: {'name': 'ram', 'age': 23, 'add': 'ktm'}, 2: {'name': 'shyam', 'age': 24, 'add': 'pkr'}, 3: {'name': 'hari', 'age': 25, 'add': 'bkt'}, 4: {'name': 'sita', 'age': 26, 'add': 'ktm'}}\n"
     ]
    }
   ],
   "source": [
    "# dictionary inside dictionary\n",
    "a= {1:{\"name\":\"ram\",\"age\":23,\"add\":\"ktm\"},\n",
    "    2:{\"name\":\"shyam\",\"age\":24,\"add\":\"pkr\"},\n",
    "    3:{\"name\":\"hari\",\"age\":25,\"add\":\"bkt\"},\n",
    "    4:{\"name\":\"sita\",\"age\":26,\"add\":\"ktm\"}}\n",
    "print(a)"
   ]
  },
  {
   "cell_type": "code",
   "execution_count": 7,
   "id": "b9a486d0",
   "metadata": {},
   "outputs": [
    {
     "name": "stdout",
     "output_type": "stream",
     "text": [
      "{'name': 'ram', 'age': 23, 'add': 'ktm'}\n"
     ]
    }
   ],
   "source": [
    "print(a[1])"
   ]
  },
  {
   "cell_type": "code",
   "execution_count": 8,
   "id": "4dfe2c0f",
   "metadata": {},
   "outputs": [
    {
     "data": {
      "text/plain": [
       "{1: {'name': 'ram', 'age': 23, 'add': 'ktm'},\n",
       " 2: {'name': 'shyam', 'age': 24, 'add': 'pkr'},\n",
       " 3: {'name': 'hari', 'age': 25, 'add': 'bkt'},\n",
       " 4: {'name': 'sita', 'age': 26, 'add': 'ktm'},\n",
       " 5: {'name': 'akriti', 'age': 18, 'add': 'corpus christi'}}"
      ]
     },
     "execution_count": 8,
     "metadata": {},
     "output_type": "execute_result"
    }
   ],
   "source": [
    "a[5] = {'name': \"akriti\",\"age\":18,\"add\":\"corpus christi\"}\n",
    "a\n"
   ]
  },
  {
   "cell_type": "code",
   "execution_count": null,
   "id": "cbce1c6b",
   "metadata": {},
   "outputs": [],
   "source": [
    "# WAP to create dict inside dict"
   ]
  }
 ],
 "metadata": {
  "kernelspec": {
   "display_name": "Python 3 (ipykernel)",
   "language": "python",
   "name": "python3"
  },
  "language_info": {
   "codemirror_mode": {
    "name": "ipython",
    "version": 3
   },
   "file_extension": ".py",
   "mimetype": "text/x-python",
   "name": "python",
   "nbconvert_exporter": "python",
   "pygments_lexer": "ipython3",
   "version": "3.9.7"
  }
 },
 "nbformat": 4,
 "nbformat_minor": 5
}
