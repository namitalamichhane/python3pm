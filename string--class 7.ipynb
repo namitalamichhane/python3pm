{
 "cells": [
  {
   "cell_type": "code",
   "execution_count": 2,
   "id": "f6dfa018",
   "metadata": {},
   "outputs": [
    {
     "name": "stdout",
     "output_type": "stream",
     "text": [
      "Hello World\n",
      "<class 'str'>\n"
     ]
    }
   ],
   "source": [
    "a=\"Hello World\"\n",
    "print(a)\n",
    "print(type(a))\n"
   ]
  },
  {
   "cell_type": "code",
   "execution_count": 5,
   "id": "7da3db2a",
   "metadata": {},
   "outputs": [
    {
     "name": "stdout",
     "output_type": "stream",
     "text": [
      "Hello World\n"
     ]
    }
   ],
   "source": [
    "a=\"Hello \"\n",
    "b=\"World\"\n",
    "c=a + b\n",
    "print(c)"
   ]
  },
  {
   "cell_type": "code",
   "execution_count": 6,
   "id": "c933ea29",
   "metadata": {},
   "outputs": [
    {
     "name": "stdout",
     "output_type": "stream",
     "text": [
      "Hello WOrld\n",
      "Hello WOrld\n",
      "\n"
     ]
    }
   ],
   "source": [
    "a=(\"Hello World\\n\")\n",
    "print(a*2)"
   ]
  },
  {
   "cell_type": "code",
   "execution_count": 9,
   "id": "12091aed",
   "metadata": {},
   "outputs": [
    {
     "name": "stdout",
     "output_type": "stream",
     "text": [
      "l\n"
     ]
    }
   ],
   "source": [
    "a=\"Hello World\"\n",
    "print(a[2])"
   ]
  },
  {
   "cell_type": "code",
   "execution_count": 12,
   "id": "af090c36",
   "metadata": {},
   "outputs": [
    {
     "name": "stdout",
     "output_type": "stream",
     "text": [
      "Hello\n"
     ]
    }
   ],
   "source": [
    "a=\"Hello World\"\n",
    "print(a[0:5])"
   ]
  },
  {
   "cell_type": "code",
   "execution_count": 14,
   "id": "394e42a3",
   "metadata": {},
   "outputs": [
    {
     "name": "stdout",
     "output_type": "stream",
     "text": [
      "HloWr\n"
     ]
    }
   ],
   "source": [
    "a=\"Hello World\"\n",
    "print(a[0:10:2])\n"
   ]
  },
  {
   "cell_type": "code",
   "execution_count": 17,
   "id": "747f3a61",
   "metadata": {},
   "outputs": [
    {
     "name": "stdout",
     "output_type": "stream",
     "text": [
      "Hello\n",
      " World\n"
     ]
    }
   ],
   "source": [
    "a=\"Hello World\"\n",
    "b= a[0:5]\n",
    "c= a[5:]\n",
    "print (b)\n",
    "print (c)"
   ]
  },
  {
   "cell_type": "code",
   "execution_count": 23,
   "id": "d0b21f02",
   "metadata": {},
   "outputs": [
    {
     "name": "stdout",
     "output_type": "stream",
     "text": [
      "dlroW olleH\n"
     ]
    }
   ],
   "source": [
    "a=\"Hello World\"\n",
    "l= len(a)\n",
    "print (a[l::-1])\n"
   ]
  },
  {
   "cell_type": "code",
   "execution_count": 24,
   "id": "ad227d50",
   "metadata": {},
   "outputs": [
    {
     "name": "stdout",
     "output_type": "stream",
     "text": [
      "dlroW olleH\n"
     ]
    }
   ],
   "source": [
    "a=\"Hello World\"\n",
    "print (a[::-1])\n"
   ]
  },
  {
   "cell_type": "code",
   "execution_count": 1,
   "id": "e3fb777f",
   "metadata": {},
   "outputs": [
    {
     "name": "stdout",
     "output_type": "stream",
     "text": [
      "Enter name = ram\n",
      "Enter age= 1\n",
      "Enter add =ktm\n",
      "Hello I am ram I am from ktm I am 1\n"
     ]
    }
   ],
   "source": [
    "# string formatting\n",
    "name = (input(\"Enter name = \"))\n",
    "age=int(input(\"Enter age= \"))\n",
    "add = input (\"Enter add =\")\n",
    "info = f\"Hello I am {name} I am from {add} I am {age}\"\n",
    "\n",
    "print(info)\n"
   ]
  },
  {
   "cell_type": "code",
   "execution_count": 6,
   "id": "c831af24",
   "metadata": {},
   "outputs": [
    {
     "name": "stdout",
     "output_type": "stream",
     "text": [
      "Enter name=Ram\n",
      "Yes\n",
      "1\n"
     ]
    }
   ],
   "source": [
    "a = \" Ram Shyam Hari Sita Gita Nabin \"\n",
    "name =input(\"Enter name=\")\n",
    "if name in a:\n",
    "    print (\"Yes\")\n",
    "    print(a.count(name))"
   ]
  },
  {
   "cell_type": "code",
   "execution_count": 7,
   "id": "9af05a48",
   "metadata": {},
   "outputs": [
    {
     "data": {
      "text/plain": [
       "' RAM SHYAM HARI SITA GITA NABIN '"
      ]
     },
     "execution_count": 7,
     "metadata": {},
     "output_type": "execute_result"
    }
   ],
   "source": [
    "a = \" Ram Shyam Hari Sita Gita Nabin \"\n",
    "a.upper()"
   ]
  },
  {
   "cell_type": "code",
   "execution_count": 8,
   "id": "aa0f7034",
   "metadata": {},
   "outputs": [
    {
     "data": {
      "text/plain": [
       "' ram shyam hari sita gita nabin '"
      ]
     },
     "execution_count": 8,
     "metadata": {},
     "output_type": "execute_result"
    }
   ],
   "source": [
    "a = \" Ram Shyam Hari Sita Gita Nabin \"\n",
    "a.lower()"
   ]
  },
  {
   "cell_type": "code",
   "execution_count": 11,
   "id": "e4580720",
   "metadata": {},
   "outputs": [
    {
     "name": "stdout",
     "output_type": "stream",
     "text": [
      "Enter name=ram\n",
      "Yes\n",
      "1\n"
     ]
    }
   ],
   "source": [
    "a = \" Ram Shyam Hari Sita Gita Nabin \".lower()\n",
    "name =input(\"Enter name=\").lower()\n",
    "if name in a:\n",
    "    print (\"Yes\")\n",
    "    print(a.count(name))"
   ]
  },
  {
   "cell_type": "code",
   "execution_count": 12,
   "id": "00e59d13",
   "metadata": {},
   "outputs": [
    {
     "data": {
      "text/plain": [
       "'Ram Shyam Hari Sita Gita Ram Nabin'"
      ]
     },
     "execution_count": 12,
     "metadata": {},
     "output_type": "execute_result"
    }
   ],
   "source": [
    "a= 'ram shyam hari sita gita ram nabin'\n",
    "a.title()"
   ]
  },
  {
   "cell_type": "code",
   "execution_count": 13,
   "id": "95bb390f",
   "metadata": {},
   "outputs": [
    {
     "data": {
      "text/plain": [
       "'RAM SHYAM HARI SITA GITA RAM NABIN'"
      ]
     },
     "execution_count": 13,
     "metadata": {},
     "output_type": "execute_result"
    }
   ],
   "source": [
    "a= 'ram shyam hari sita gita ram nabin'\n",
    "a.upper()"
   ]
  },
  {
   "cell_type": "code",
   "execution_count": 17,
   "id": "c068b80e",
   "metadata": {},
   "outputs": [
    {
     "name": "stdout",
     "output_type": "stream",
     "text": [
      "ram shyam hari sita gita ram nabin\n"
     ]
    }
   ],
   "source": [
    "a= 'ram shyam hari sita gita ram nabin'\n",
    "a.upper()\n",
    "print (a)\n",
    "# immutable data type"
   ]
  },
  {
   "cell_type": "code",
   "execution_count": 14,
   "id": "e9d4e9ba",
   "metadata": {},
   "outputs": [
    {
     "name": "stdout",
     "output_type": "stream",
     "text": [
      "RAM SHYAM HARI SITA GITA RAM NABIN\n"
     ]
    }
   ],
   "source": [
    "a= 'ram shyam hari sita gita ram nabin'\n",
    "a= a.upper()\n",
    "print (a)"
   ]
  },
  {
   "cell_type": "code",
   "execution_count": 20,
   "id": "138a5931",
   "metadata": {},
   "outputs": [
    {
     "name": "stdout",
     "output_type": "stream",
     "text": [
      "Ram shyam hari sita gita Ram nabin\n"
     ]
    }
   ],
   "source": [
    "a= 'ram shyam hari sita gita ram nabin'\n",
    "a= a.replace('ram','Ram')\n",
    "print(a)"
   ]
  },
  {
   "cell_type": "code",
   "execution_count": 22,
   "id": "533a02f6",
   "metadata": {},
   "outputs": [
    {
     "name": "stdout",
     "output_type": "stream",
     "text": [
      " shyam hari sita gita  nabin\n"
     ]
    }
   ],
   "source": [
    "a= 'ram shyam hari sita gita ram nabin'\n",
    "a= a.replace('ram',\"\")\n",
    "print(a)"
   ]
  },
  {
   "cell_type": "code",
   "execution_count": 24,
   "id": "df714299",
   "metadata": {
    "scrolled": true
   },
   "outputs": [
    {
     "data": {
      "text/plain": [
       "2"
      ]
     },
     "execution_count": 24,
     "metadata": {},
     "output_type": "execute_result"
    }
   ],
   "source": [
    "a= 10 \n",
    "b= 2\n",
    "a\n",
    "b\n"
   ]
  },
  {
   "cell_type": "code",
   "execution_count": null,
   "id": "522b9e01",
   "metadata": {},
   "outputs": [],
   "source": [
    "# WAP to develop a billing application using string and loop\n",
    "# name\n",
    "# price\n",
    "# quantity\n",
    "# total\n",
    "\n",
    "# grand total"
   ]
  },
  {
   "cell_type": "code",
   "execution_count": 4,
   "id": "8ff970fc",
   "metadata": {},
   "outputs": [
    {
     "name": "stdout",
     "output_type": "stream",
     "text": [
      "Enter n=2\n",
      "Enter name = ww\n",
      "Enter quantity =11\n",
      "Enter price =123\n",
      "Enter name = q\n",
      "Enter quantity =1\n",
      "Enter price =22\n",
      "grand total is 22\n"
     ]
    }
   ],
   "source": [
    "n = int (input(\"Enter n=\"))\n",
    "for i in range(n):\n",
    "    name = input(\"Enter name = \")\n",
    "    quantity = int(input(\"Enter quantity =\"))\n",
    "    price = int(input(\"Enter price =\"))\n",
    "    total= price*quantity\n",
    "    info = f\"grand total is {total}\"\n",
    "    \n",
    "print(info)\n"
   ]
  },
  {
   "cell_type": "code",
   "execution_count": null,
   "id": "676b9a74",
   "metadata": {},
   "outputs": [],
   "source": []
  }
 ],
 "metadata": {
  "kernelspec": {
   "display_name": "Python 3 (ipykernel)",
   "language": "python",
   "name": "python3"
  },
  "language_info": {
   "codemirror_mode": {
    "name": "ipython",
    "version": 3
   },
   "file_extension": ".py",
   "mimetype": "text/x-python",
   "name": "python",
   "nbconvert_exporter": "python",
   "pygments_lexer": "ipython3",
   "version": "3.9.7"
  }
 },
 "nbformat": 4,
 "nbformat_minor": 5
}
