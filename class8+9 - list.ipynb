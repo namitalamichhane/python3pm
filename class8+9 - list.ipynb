{
 "cells": [
  {
   "cell_type": "code",
   "execution_count": 1,
   "id": "fdf12c83",
   "metadata": {},
   "outputs": [],
   "source": [
    "# Python collection\n",
    "# list\n",
    "# tuple\n",
    "# dictionary\n",
    "# set\n"
   ]
  },
  {
   "cell_type": "code",
   "execution_count": 2,
   "id": "4ce16ed6",
   "metadata": {},
   "outputs": [],
   "source": [
    "# list \n",
    "# - Indexed\n",
    "# - Ordered\n",
    "# - Multiple and duplicate data\n",
    "# - Mutable"
   ]
  },
  {
   "cell_type": "code",
   "execution_count": 4,
   "id": "364bb758",
   "metadata": {},
   "outputs": [
    {
     "name": "stdout",
     "output_type": "stream",
     "text": [
      "5\n",
      "['Apple', 'Ball', 'Cat', 'Dog', 'Fish']\n",
      "<class 'list'>\n"
     ]
    }
   ],
   "source": [
    "# list\n",
    "a=[\"Apple\",\"Ball\",\"Cat\",\"Dog\",\"Fish\"]\n",
    "l = len(a)\n",
    "print(l)\n",
    "print(a)\n",
    "print(type(a))\n"
   ]
  },
  {
   "cell_type": "code",
   "execution_count": 7,
   "id": "9dbc10c1",
   "metadata": {},
   "outputs": [
    {
     "name": "stdout",
     "output_type": "stream",
     "text": [
      "Ball\n",
      "['Apple', 'Ball', 'Cat', 'Dog']\n",
      "['Apple', 'Cat']\n"
     ]
    }
   ],
   "source": [
    "a=[\"Apple\",\"Ball\",\"Cat\",\"Dog\",\"Fish\"]\n",
    "print(a[1])\n",
    "print (a[0:4])\n",
    "print (a[0:4:2])"
   ]
  },
  {
   "cell_type": "code",
   "execution_count": 8,
   "id": "c05db5a7",
   "metadata": {},
   "outputs": [
    {
     "name": "stdout",
     "output_type": "stream",
     "text": [
      "[1, 2, 3, 4, 5, 'Apple', 'Ball', 'Cat', 'Dog', 'Fish']\n"
     ]
    }
   ],
   "source": [
    "a=[\"Apple\",\"Ball\",\"Cat\",\"Dog\",\"Fish\"]\n",
    "b=[1,2,3,4,5]\n",
    "c= b+a\n",
    "print(c)"
   ]
  },
  {
   "cell_type": "code",
   "execution_count": 29,
   "id": "9231e0a8",
   "metadata": {},
   "outputs": [
    {
     "name": "stdout",
     "output_type": "stream",
     "text": [
      "['Apple', 'Ball', 'Cat', 'Dog', 'Fish', 'Apple', 'Ball', 'Cat', 'Dog', 'Fish']\n"
     ]
    }
   ],
   "source": [
    "a=[\"Apple\",\"Ball\",\"Cat\",\"Dog\",\"Fish\"]\n",
    "print(a*2)"
   ]
  },
  {
   "cell_type": "code",
   "execution_count": 31,
   "id": "92ed31e7",
   "metadata": {},
   "outputs": [
    {
     "ename": "TypeError",
     "evalue": "can't multiply sequence by non-int of type 'float'",
     "output_type": "error",
     "traceback": [
      "\u001b[0;31m---------------------------------------------------------------------------\u001b[0m",
      "\u001b[0;31mTypeError\u001b[0m                                 Traceback (most recent call last)",
      "\u001b[0;32m/tmp/ipykernel_807/2252682409.py\u001b[0m in \u001b[0;36m<module>\u001b[0;34m\u001b[0m\n\u001b[1;32m      1\u001b[0m \u001b[0ma\u001b[0m\u001b[0;34m=\u001b[0m\u001b[0;34m[\u001b[0m\u001b[0;36m1\u001b[0m\u001b[0;34m,\u001b[0m\u001b[0;36m2\u001b[0m\u001b[0;34m,\u001b[0m\u001b[0;36m3\u001b[0m\u001b[0;34m,\u001b[0m\u001b[0;36m4\u001b[0m\u001b[0;34m,\u001b[0m\u001b[0;36m5\u001b[0m\u001b[0;34m]\u001b[0m\u001b[0;34m\u001b[0m\u001b[0;34m\u001b[0m\u001b[0m\n\u001b[0;32m----> 2\u001b[0;31m \u001b[0mprint\u001b[0m\u001b[0;34m(\u001b[0m\u001b[0ma\u001b[0m\u001b[0;34m*\u001b[0m\u001b[0;36m2.5\u001b[0m\u001b[0;34m)\u001b[0m\u001b[0;34m\u001b[0m\u001b[0;34m\u001b[0m\u001b[0m\n\u001b[0m",
      "\u001b[0;31mTypeError\u001b[0m: can't multiply sequence by non-int of type 'float'"
     ]
    }
   ],
   "source": [
    "a=[1,2,3,4,5]\n",
    "print(a*2.5)"
   ]
  },
  {
   "cell_type": "code",
   "execution_count": 32,
   "id": "6e27c65e",
   "metadata": {},
   "outputs": [
    {
     "name": "stdout",
     "output_type": "stream",
     "text": [
      "[1, 2, 3, 4, 5, 1, 2, 3, 4, 5]\n"
     ]
    }
   ],
   "source": [
    "a=[1,2,3,4,5]\n",
    "print(a*2)"
   ]
  },
  {
   "cell_type": "code",
   "execution_count": 9,
   "id": "640609cd",
   "metadata": {},
   "outputs": [
    {
     "data": {
      "text/plain": [
       "12"
      ]
     },
     "execution_count": 9,
     "metadata": {},
     "output_type": "execute_result"
    }
   ],
   "source": [
    "a= [1, 2, 3, 4, 5, 'Apple', 'Ball', 'Cat', 'Dog', 'Fish', 1, 2]\n",
    "l = len(a)\n",
    "l\n"
   ]
  },
  {
   "cell_type": "code",
   "execution_count": 10,
   "id": "a9045b2f",
   "metadata": {},
   "outputs": [
    {
     "data": {
      "text/plain": [
       "['Ant', 'Ball', 'Cat', 'Dog', 'Fish']"
      ]
     },
     "execution_count": 10,
     "metadata": {},
     "output_type": "execute_result"
    }
   ],
   "source": [
    "a=[\"Apple\",\"Ball\",\"Cat\",\"Dog\",\"Fish\"]\n",
    "a[0] = \"Ant\"\n",
    "a\n"
   ]
  },
  {
   "cell_type": "code",
   "execution_count": 13,
   "id": "008a0418",
   "metadata": {},
   "outputs": [
    {
     "name": "stdout",
     "output_type": "stream",
     "text": [
      "Enter n=3\n",
      "Enter x=5\n",
      "Enter x=7\n",
      "Enter x=0\n",
      "[5, 7, 0]\n"
     ]
    }
   ],
   "source": [
    "l = list()\n",
    "n=int(input(\"Enter n=\"))\n",
    "for i in range(n):\n",
    "    x= int(input(\"Enter x=\"))\n",
    "    l.append(x)\n",
    "    \n",
    "print (l)"
   ]
  },
  {
   "cell_type": "code",
   "execution_count": 14,
   "id": "2d01e091",
   "metadata": {},
   "outputs": [],
   "source": [
    "#  max min sum "
   ]
  },
  {
   "cell_type": "code",
   "execution_count": 17,
   "id": "fc3f4a51",
   "metadata": {},
   "outputs": [
    {
     "name": "stdout",
     "output_type": "stream",
     "text": [
      "7\n",
      "0\n",
      "12\n"
     ]
    }
   ],
   "source": [
    "a= [5, 7, 0]\n",
    "print(max(a))\n",
    "print(min(a))\n",
    "print(sum(a)) "
   ]
  },
  {
   "cell_type": "code",
   "execution_count": 18,
   "id": "a3ddbcd5",
   "metadata": {},
   "outputs": [
    {
     "name": "stdout",
     "output_type": "stream",
     "text": [
      "[0, 5, 7]\n"
     ]
    }
   ],
   "source": [
    "a.sort()\n",
    "print(a)"
   ]
  },
  {
   "cell_type": "code",
   "execution_count": 20,
   "id": "55417aec",
   "metadata": {},
   "outputs": [
    {
     "name": "stdout",
     "output_type": "stream",
     "text": [
      "['Ball', 'Fish', 'Xray', 'apple', 'zebra']\n"
     ]
    }
   ],
   "source": [
    "a=[\"apple\",\"Xray\",\"zebra\",\"Ball\",\"Fish\"]\n",
    "a.sort()\n",
    "print (a)"
   ]
  },
  {
   "cell_type": "code",
   "execution_count": 21,
   "id": "41e1030c",
   "metadata": {},
   "outputs": [
    {
     "name": "stdout",
     "output_type": "stream",
     "text": [
      "apple Xray zebra Ball Fish "
     ]
    }
   ],
   "source": [
    "a=[\"apple\",\"Xray\",\"zebra\",\"Ball\",\"Fish\"]\n",
    "for i in a:\n",
    "    print( i, end = \" \")"
   ]
  },
  {
   "cell_type": "code",
   "execution_count": 22,
   "id": "f92efdea",
   "metadata": {},
   "outputs": [
    {
     "name": "stdout",
     "output_type": "stream",
     "text": [
      "apple\n",
      "Xray\n",
      "zebra\n",
      "Ball\n",
      "Fish\n"
     ]
    }
   ],
   "source": [
    "a=[\"apple\",\"Xray\",\"zebra\",\"Ball\",\"Fish\"]\n",
    "for i in a:\n",
    "    print( i)"
   ]
  },
  {
   "cell_type": "code",
   "execution_count": 23,
   "id": "432f1645",
   "metadata": {},
   "outputs": [
    {
     "name": "stdout",
     "output_type": "stream",
     "text": [
      "Yes\n",
      "1\n"
     ]
    }
   ],
   "source": [
    "a=[\"apple\",\"Xray\",\"zebra\",\"Ball\",\"Fish\"]\n",
    "if \"apple\" in a:\n",
    "    print(\"Yes\")\n",
    "    print (a.count(\"apple\"))\n",
    "    "
   ]
  },
  {
   "cell_type": "code",
   "execution_count": 24,
   "id": "d3a474ef",
   "metadata": {},
   "outputs": [],
   "source": [
    "# append() insert() extend()"
   ]
  },
  {
   "cell_type": "code",
   "execution_count": 26,
   "id": "5dc8dfae",
   "metadata": {},
   "outputs": [
    {
     "name": "stdout",
     "output_type": "stream",
     "text": [
      "['Apple']\n"
     ]
    }
   ],
   "source": [
    "a=[]\n",
    "a.append(\"Apple\")\n",
    "print (a)\n"
   ]
  },
  {
   "cell_type": "code",
   "execution_count": 27,
   "id": "09ec2e93",
   "metadata": {},
   "outputs": [
    {
     "name": "stdout",
     "output_type": "stream",
     "text": [
      "['apple', 'Ant', 'Xray', 'zebra', 'Ball', 'Fish']\n"
     ]
    }
   ],
   "source": [
    "a=[\"apple\",\"Xray\",\"zebra\",\"Ball\",\"Fish\"]\n",
    "a.insert(1,\"Ant\")\n",
    "print(a)"
   ]
  },
  {
   "cell_type": "code",
   "execution_count": 28,
   "id": "3fb2f596",
   "metadata": {},
   "outputs": [
    {
     "name": "stdout",
     "output_type": "stream",
     "text": [
      "['apple', 'Xray', 'zebra', 'Ball', 'Fish', 1, 2, 3, 4, 5]\n"
     ]
    }
   ],
   "source": [
    "a=[\"apple\",\"Xray\",\"zebra\",\"Ball\",\"Fish\"]\n",
    "b=[1,2,3,4,5]\n",
    "a.extend(b)\n",
    "print(a)"
   ]
  },
  {
   "cell_type": "code",
   "execution_count": 34,
   "id": "9ffc4ba2",
   "metadata": {},
   "outputs": [
    {
     "data": {
      "text/plain": [
       "['Ball', 'Cat', 'Dog', 'Fish']"
      ]
     },
     "execution_count": 34,
     "metadata": {},
     "output_type": "execute_result"
    }
   ],
   "source": [
    "# remove() del pop()\n",
    "a=[\"Apple\",\"Ball\",\"Cat\",\"Dog\",\"Fish\"]\n",
    "a.remove(\"Apple\")\n",
    "a\n"
   ]
  },
  {
   "cell_type": "code",
   "execution_count": 37,
   "id": "fd997e40",
   "metadata": {},
   "outputs": [
    {
     "data": {
      "text/plain": [
       "['Ball', 'Cat', 'Dog', 'Fish']"
      ]
     },
     "execution_count": 37,
     "metadata": {},
     "output_type": "execute_result"
    }
   ],
   "source": [
    "a=[\"Apple\",\"Ball\",\"Cat\",\"Dog\",\"Fish\"]\n",
    "del a[0]\n",
    "a"
   ]
  },
  {
   "cell_type": "code",
   "execution_count": 38,
   "id": "f1e023ea",
   "metadata": {},
   "outputs": [
    {
     "data": {
      "text/plain": [
       "['Dog', 'Fish']"
      ]
     },
     "execution_count": 38,
     "metadata": {},
     "output_type": "execute_result"
    }
   ],
   "source": [
    "a=[\"Apple\",\"Ball\",\"Cat\",\"Dog\",\"Fish\"]\n",
    "del a[0:3]\n",
    "a"
   ]
  },
  {
   "cell_type": "code",
   "execution_count": 39,
   "id": "f9d00999",
   "metadata": {},
   "outputs": [
    {
     "data": {
      "text/plain": [
       "0"
      ]
     },
     "execution_count": 39,
     "metadata": {},
     "output_type": "execute_result"
    }
   ],
   "source": [
    "a=[\"Apple\",\"Ball\",\"Cat\",\"Dog\",\"Fish\"]\n",
    "a.index(\"Apple\")\n"
   ]
  },
  {
   "cell_type": "code",
   "execution_count": 41,
   "id": "a8851e62",
   "metadata": {},
   "outputs": [
    {
     "data": {
      "text/plain": [
       "['Ball', 'Cat', 'Dog', 'Fish', 'Apple', 'Cat', 'Apple']"
      ]
     },
     "execution_count": 41,
     "metadata": {},
     "output_type": "execute_result"
    }
   ],
   "source": [
    "a=[\"Apple\",\"Ball\",\"Cat\",\"Dog\",\"Fish\",\"Apple\",\"Cat\",\"Apple\"]\n",
    "a.remove(\"Apple\")\n",
    "a"
   ]
  },
  {
   "cell_type": "code",
   "execution_count": 43,
   "id": "a0491805",
   "metadata": {},
   "outputs": [
    {
     "data": {
      "text/plain": [
       "['Ball', 'Cat', 'Dog', 'Fish', 'Cat']"
      ]
     },
     "execution_count": 43,
     "metadata": {},
     "output_type": "execute_result"
    }
   ],
   "source": [
    "a=[\"Apple\",\"Ball\",\"Cat\",\"Dog\",\"Fish\",\"Apple\",\"Cat\",\"Apple\"]\n",
    "for i in a:\n",
    "    if i == \"Apple\":\n",
    "        a.remove(\"Apple\")\n",
    "a"
   ]
  },
  {
   "cell_type": "code",
   "execution_count": 44,
   "id": "b138dd0e",
   "metadata": {},
   "outputs": [
    {
     "data": {
      "text/plain": [
       "['Ball', 'Cat', 'Dog', 'Fish', 'Cat', 'Apple']"
      ]
     },
     "execution_count": 44,
     "metadata": {},
     "output_type": "execute_result"
    }
   ],
   "source": [
    "a=[\"Apple\",\"Apple\",\"Ball\",\"Cat\",\"Dog\",\"Fish\",\"Apple\",\"Cat\",\"Apple\"]\n",
    "for i in a:\n",
    "    if i == \"Apple\":\n",
    "        a.remove(\"Apple\")\n",
    "a"
   ]
  },
  {
   "cell_type": "code",
   "execution_count": 46,
   "id": "1c7dc6c3",
   "metadata": {},
   "outputs": [
    {
     "data": {
      "text/plain": [
       "['Apple', 'Ball', 'Cat', 'Dog', 'Fish', 'Apple', 'Cat', 'Apple']"
      ]
     },
     "execution_count": 46,
     "metadata": {},
     "output_type": "execute_result"
    }
   ],
   "source": [
    "a=[\"Apple\",\"Apple\",\"Ball\",\"Cat\",\"Dog\",\"Fish\",\"Apple\",\"Cat\",\"Apple\"]\n",
    "l= a.count(\"Apple\")\n",
    "for i in range(l):\n",
    "    if a[i] == \"Apple\":\n",
    "        a.remove(a[i])\n",
    "a"
   ]
  },
  {
   "cell_type": "code",
   "execution_count": 49,
   "id": "be0a2a2c",
   "metadata": {},
   "outputs": [
    {
     "name": "stdout",
     "output_type": "stream",
     "text": [
      "['Ball', 'Cat', 'Dog', 'Fish', 'Cat']\n"
     ]
    }
   ],
   "source": [
    "b= []\n",
    "a=[\"Apple\",\"Ball\",\"Cat\",\"Dog\",\"Fish\",\"Apple\",\"Cat\",\"Apple\"]\n",
    "for i in a:\n",
    "    if i != \"Apple\":\n",
    "        b.append(i)\n",
    "print(b) "
   ]
  },
  {
   "cell_type": "code",
   "execution_count": 51,
   "id": "bce6f147",
   "metadata": {},
   "outputs": [],
   "source": [
    "#WAP to detect index of same value"
   ]
  },
  {
   "cell_type": "code",
   "execution_count": 11,
   "id": "df12cd58",
   "metadata": {},
   "outputs": [
    {
     "name": "stdout",
     "output_type": "stream",
     "text": [
      "1\n",
      "1\n",
      "1\n"
     ]
    }
   ],
   "source": [
    "a= [\"Apple\",\"Ball\",\"Cat\",\"Ball\",\"Dog\",\"Fish\",\"Ball\"]\n",
    "for i in a:\n",
    "    if i == \"Ball\":\n",
    "       print(a.index(\"Ball\"))"
   ]
  },
  {
   "cell_type": "code",
   "execution_count": 12,
   "id": "e471d7d7",
   "metadata": {},
   "outputs": [
    {
     "name": "stdout",
     "output_type": "stream",
     "text": [
      "1\n",
      "3\n",
      "6\n"
     ]
    }
   ],
   "source": [
    "a= [\"Apple\",\"Ball\",\"Cat\",\"Ball\",\"Dog\",\"Fish\",\"Ball\"]\n",
    "for i in range (len(a)):\n",
    "    if a[i] == \"Ball\":\n",
    "        print(i)"
   ]
  },
  {
   "cell_type": "code",
   "execution_count": 13,
   "id": "0866ef58",
   "metadata": {},
   "outputs": [
    {
     "name": "stdout",
     "output_type": "stream",
     "text": [
      "3\n"
     ]
    }
   ],
   "source": [
    "# list inside list-- listed list\n",
    "a=[[1,2,3],\n",
    "   [4,5,6],\n",
    "   [7,8,9]]\n",
    "print (len(a))"
   ]
  },
  {
   "cell_type": "code",
   "execution_count": 15,
   "id": "1e99c362",
   "metadata": {},
   "outputs": [
    {
     "name": "stdout",
     "output_type": "stream",
     "text": [
      "[7, 8, 9]\n"
     ]
    }
   ],
   "source": [
    "print(a[2])"
   ]
  },
  {
   "cell_type": "code",
   "execution_count": 16,
   "id": "abf46414",
   "metadata": {},
   "outputs": [
    {
     "data": {
      "text/plain": [
       "[['Ram', 34, 'Kathmandu'], ['Shyam', 23, 'Patan'], ['Hari', 54, 'Bhaktapur']]"
      ]
     },
     "execution_count": 16,
     "metadata": {},
     "output_type": "execute_result"
    }
   ],
   "source": [
    "a= [['Ram',34,'Kathmandu'],\n",
    "    ['Shyam',23,'Patan'],\n",
    "    ['Hari',54,'Bhaktapur']]\n",
    "a"
   ]
  },
  {
   "cell_type": "code",
   "execution_count": 18,
   "id": "ede2f32e",
   "metadata": {},
   "outputs": [
    {
     "data": {
      "text/plain": [
       "'Kathmandu'"
      ]
     },
     "execution_count": 18,
     "metadata": {},
     "output_type": "execute_result"
    }
   ],
   "source": [
    "a[0][2]"
   ]
  },
  {
   "cell_type": "code",
   "execution_count": 22,
   "id": "b9db3897",
   "metadata": {},
   "outputs": [
    {
     "name": "stdout",
     "output_type": "stream",
     "text": [
      "Enter name=Ram\n",
      "['Ram', 34, 'Kathmandu']\n"
     ]
    }
   ],
   "source": [
    "name = input(\"Enter name=\")\n",
    "for i in a:\n",
    "    if name in i:\n",
    "        print(i)"
   ]
  },
  {
   "cell_type": "code",
   "execution_count": 26,
   "id": "513d6779",
   "metadata": {},
   "outputs": [
    {
     "name": "stdout",
     "output_type": "stream",
     "text": [
      "Enter n= 1\n",
      "Enter name= akriti\n",
      "Enter age=23\n",
      "Enter add=texas corpus christi\n",
      "[['akriti', 23, 'texas corpus christi']]\n"
     ]
    }
   ],
   "source": [
    "info =[]\n",
    "n= int(input(\"Enter n= \"))\n",
    "for i in range(n):\n",
    "    name= input(\"Enter name= \")\n",
    "    age = int(input(\"Enter age=\"))\n",
    "    add = input(\"Enter add=\")\n",
    "    data =[name,age,add]\n",
    "    info.append(data)\n",
    "\n",
    "print(info)"
   ]
  },
  {
   "cell_type": "code",
   "execution_count": 27,
   "id": "18f7e91f",
   "metadata": {},
   "outputs": [
    {
     "data": {
      "text/plain": [
       "[['Shyam', 23, 'Patan'], ['Hari', 54, 'Bhaktapur']]"
      ]
     },
     "execution_count": 27,
     "metadata": {},
     "output_type": "execute_result"
    }
   ],
   "source": [
    "a= [['Ram', 34, 'Kathmandu'], ['Shyam', 23, 'Patan'], ['Hari', 54, 'Bhaktapur']]\n",
    "del a[0]\n",
    "a"
   ]
  },
  {
   "cell_type": "code",
   "execution_count": 30,
   "id": "373b7ef5",
   "metadata": {},
   "outputs": [
    {
     "data": {
      "text/plain": [
       "[['Prasad', 34, 'Kathmandu'],\n",
       " ['Shyam', 23, 'Patan'],\n",
       " ['Hari', 54, 'Bhaktapur']]"
      ]
     },
     "execution_count": 30,
     "metadata": {},
     "output_type": "execute_result"
    }
   ],
   "source": [
    "a= [['Ram', 34, 'Kathmandu'], ['Shyam', 23, 'Patan'], ['Hari', 54, 'Bhaktapur']]\n",
    "a[0][0] =\"Prasad\"\n",
    "a\n"
   ]
  },
  {
   "cell_type": "code",
   "execution_count": 31,
   "id": "33f534ab",
   "metadata": {},
   "outputs": [
    {
     "data": {
      "text/plain": [
       "[['Shyam', 23, 'Patan'], ['Hari', 54, 'Bhaktapur'], ['Ram', 32, 'Kathmandu']]"
      ]
     },
     "execution_count": 31,
     "metadata": {},
     "output_type": "execute_result"
    }
   ],
   "source": [
    "a= [['Shyam', 23, 'Patan'], ['Hari', 54, 'Bhaktapur']]\n",
    "a.append(['Ram', 32,'Kathmandu'])\n",
    "a\n",
    "\n"
   ]
  },
  {
   "cell_type": "code",
   "execution_count": 35,
   "id": "eb423f76",
   "metadata": {},
   "outputs": [
    {
     "name": "stdout",
     "output_type": "stream",
     "text": [
      "Enter name=Kathmandu\n"
     ]
    },
    {
     "data": {
      "text/plain": [
       "[['Shyam', 23, 'Patan'], ['Hari', 54, 'Bhaktapur']]"
      ]
     },
     "execution_count": 35,
     "metadata": {},
     "output_type": "execute_result"
    }
   ],
   "source": [
    "a= [['Ram', 34, 'Kathmandu'], ['Shyam', 23, 'Patan'], ['Hari', 54, 'Bhaktapur']]\n",
    "name = input(\"Enter name=\")\n",
    "for i in a:\n",
    "    if name in i:\n",
    "        a.remove(i)\n",
    "a"
   ]
  },
  {
   "cell_type": "code",
   "execution_count": 2,
   "id": "83647b3d",
   "metadata": {},
   "outputs": [],
   "source": [
    "# WAP to create a matrix by taking row and column"
   ]
  },
  {
   "cell_type": "code",
   "execution_count": 6,
   "id": "0180e23c",
   "metadata": {},
   "outputs": [
    {
     "name": "stdout",
     "output_type": "stream",
     "text": [
      "Enter row =2\n",
      "Enter column = 2\n",
      "Enter rowvalue  =1\n",
      "Enter columnvalue = 2\n",
      "Enter rowvalue  =1\n",
      "Enter columnvalue = 2\n",
      "[[1, 2], [1, 2]]\n"
     ]
    }
   ],
   "source": [
    "info =[]\n",
    "m=int(input(\"Enter row =\"))\n",
    "n= int(input(\"Enter column = \"))\n",
    "mat[]\n",
    "for i in range(m):\n",
    "    row[]\n",
    "    rv=int(input(\"Enter rowvalue  =\"))\n",
    "    cv= int(input(\"Enter columnvalue = \"))\n",
    "    data =[rv, cv]\n",
    "    info.append(data)\n",
    "\n",
    "print(info)"
   ]
  },
  {
   "cell_type": "code",
   "execution_count": null,
   "id": "b4a796d1",
   "metadata": {},
   "outputs": [],
   "source": [
    "# list comprehension and filter--later"
   ]
  }
 ],
 "metadata": {
  "kernelspec": {
   "display_name": "Python 3 (ipykernel)",
   "language": "python",
   "name": "python3"
  },
  "language_info": {
   "codemirror_mode": {
    "name": "ipython",
    "version": 3
   },
   "file_extension": ".py",
   "mimetype": "text/x-python",
   "name": "python",
   "nbconvert_exporter": "python",
   "pygments_lexer": "ipython3",
   "version": "3.9.7"
  }
 },
 "nbformat": 4,
 "nbformat_minor": 5
}
