{
 "cells": [
  {
   "cell_type": "code",
   "execution_count": 1,
   "id": "26c26d6d",
   "metadata": {},
   "outputs": [],
   "source": [
    "# class A:\n",
    "#     pass\n",
    "\n",
    "# class B(A):\n",
    "#     pass\n",
    "\n",
    "#  obj = B()"
   ]
  },
  {
   "cell_type": "code",
   "execution_count": 5,
   "id": "586d6ab0",
   "metadata": {},
   "outputs": [
    {
     "name": "stdout",
     "output_type": "stream",
     "text": [
      "Enter name=akriti\n",
      "Enter add=corpus christi\n",
      "Hello my name is akriti. I am from corpus christi\n"
     ]
    }
   ],
   "source": [
    "class A:\n",
    "    def __init__(self):\n",
    "        self.name=input(\"Enter name=\")\n",
    "        self.add = input(\"Enter add=\")\n",
    "        \n",
    "class B(A):\n",
    "    def info(self):\n",
    "        print(f\"Hello my name is {self.name}. I am from {self.add}\")\n",
    "        \n",
    "obj = B()\n",
    "obj.info()\n",
    "        "
   ]
  },
  {
   "cell_type": "code",
   "execution_count": 7,
   "id": "c55a4796",
   "metadata": {},
   "outputs": [
    {
     "name": "stdout",
     "output_type": "stream",
     "text": [
      "Enter name=AD\n",
      "Enter add=CC\n",
      "Hello my name is AD. I am from CC\n"
     ]
    }
   ],
   "source": [
    "class A:\n",
    "    def __init__(self,name,add):\n",
    "        self.name=name\n",
    "        self.add = add\n",
    "        \n",
    "class B(A):\n",
    "    def info(self):\n",
    "        print(f\"Hello my name is {self.name}. I am from {self.add}\")\n",
    "        \n",
    "name = input(\"Enter name=\")\n",
    "add = input(\"Enter add=\")\n",
    "\n",
    "obj = B(name,add)\n",
    "obj.info()\n",
    "        "
   ]
  },
  {
   "cell_type": "code",
   "execution_count": 8,
   "id": "d7456de9",
   "metadata": {},
   "outputs": [],
   "source": [
    "class A:\n",
    "    pass\n",
    "\n",
    "class B(A):\n",
    "    pass\n",
    "\n",
    "class C(B):\n",
    "    pass\n",
    "\n",
    "obj = C()\n",
    "\n",
    "# multi-level type of inheritance\n"
   ]
  },
  {
   "cell_type": "code",
   "execution_count": 9,
   "id": "f878da14",
   "metadata": {},
   "outputs": [],
   "source": [
    "class A:\n",
    "    pass\n",
    "\n",
    "class B:\n",
    "    pass\n",
    "\n",
    "class C(A,B):             #derived class\n",
    "    pass\n",
    "\n",
    "obj = C()\n"
   ]
  },
  {
   "cell_type": "code",
   "execution_count": 15,
   "id": "d1e0df21",
   "metadata": {},
   "outputs": [
    {
     "name": "stdout",
     "output_type": "stream",
     "text": [
      "Hello World I am Ram. I am from Kathmandu. I am 34\n"
     ]
    }
   ],
   "source": [
    "class A:\n",
    "    def __init__ (self,add):\n",
    "        self.add = add\n",
    "    def address(self):\n",
    "        print(f\"I am from {self,add}\")\n",
    "\n",
    "class B(A):\n",
    "    def __init__ (self,age,add):\n",
    "        self.age = age\n",
    "        A.__init__ (self,add)\n",
    "    def ages(self):\n",
    "        print(f\" I am from {self.add}. I am {self.age}\")\n",
    "\n",
    "class C(B):\n",
    "    def __init__ (self,name,age,add):\n",
    "        self.name = name\n",
    "        B. __init__ (self,age,add)\n",
    "        \n",
    "    def info (self):\n",
    "        print(f\"Hello World I am {self.name}. I am from {self.add}. I am {self.age}\")\n",
    "\n",
    "obj = C(\"Ram\",34,\"Kathmandu\")\n",
    "obj.info()"
   ]
  },
  {
   "cell_type": "code",
   "execution_count": 16,
   "id": "872604ed",
   "metadata": {},
   "outputs": [
    {
     "name": "stdout",
     "output_type": "stream",
     "text": [
      "Hello World I am Ram. I am from Kathmandu. I am 34\n"
     ]
    }
   ],
   "source": [
    "class A:\n",
    "    def __init__ (self,add):\n",
    "        self.add = add\n",
    "    def address(self):\n",
    "        print(f\"I am from {self,add}\")\n",
    "\n",
    "class B:\n",
    "    def __init__ (self,age):\n",
    "        self.age = age\n",
    "    def ages(self):\n",
    "        print(f\"I am {self.age}\")\n",
    "\n",
    "class C(A,B):\n",
    "    def __init__ (self,name,age,add):\n",
    "        self.name = name\n",
    "        B. __init__ (self,age)\n",
    "        A. __init__ (self,add)\n",
    "        \n",
    "    def info (self):\n",
    "        print(f\"Hello World I am {self.name}. I am from {self.add}. I am {self.age}\")\n",
    "\n",
    "obj = C(\"Ram\",34,\"Kathmandu\")\n",
    "obj.info()"
   ]
  },
  {
   "cell_type": "code",
   "execution_count": 22,
   "id": "e3b6d347",
   "metadata": {},
   "outputs": [
    {
     "name": "stdout",
     "output_type": "stream",
     "text": [
      "Hello I am 40. I am from Kathmandu\n"
     ]
    }
   ],
   "source": [
    "class A:\n",
    "    def __init__ (self):\n",
    "        self.add = \"Kathmandu\"\n",
    "    def a(self):\n",
    "        pass\n",
    "        \n",
    "class B:\n",
    "    def __init__ (self):\n",
    "        self.age = 40\n",
    "    def b(self):\n",
    "        pass\n",
    "    \n",
    "        \n",
    "class C(A,B):\n",
    "    def __init__ (self):\n",
    "        A.__init__(self)\n",
    "        B.__init__(self)\n",
    "        \n",
    "    def info (self):\n",
    "        print(f\"Hello I am {self.age}. I am from {self.add}\")\n",
    "        \n",
    "obj = C()\n",
    "obj.info()\n"
   ]
  },
  {
   "cell_type": "code",
   "execution_count": 1,
   "id": "6f1adc2e",
   "metadata": {},
   "outputs": [
    {
     "name": "stdout",
     "output_type": "stream",
     "text": [
      "Ram\n",
      "34\n",
      "Kathmandu\n"
     ]
    }
   ],
   "source": [
    "# Public members\n",
    "\n",
    "class Info:\n",
    "    def __init__ (self,name,age,add):\n",
    "        self.name = name\n",
    "        self.age = age\n",
    "        self.add = add\n",
    "        \n",
    "obj = Info(\"Ram\",34,\"Kathmandu\")\n",
    "print(obj.name)\n",
    "print(obj.age)\n",
    "print(obj.add)\n",
    "\n",
    "        "
   ]
  },
  {
   "cell_type": "code",
   "execution_count": 2,
   "id": "349c5cf6",
   "metadata": {},
   "outputs": [
    {
     "name": "stdout",
     "output_type": "stream",
     "text": [
      "Ram\n",
      "34\n",
      "Kathmandu\n"
     ]
    }
   ],
   "source": [
    "# Protected members\n",
    "\n",
    "class Info:\n",
    "    def __init__ (self,name,age,add):\n",
    "        self._name = name\n",
    "        self._age = age\n",
    "        self._add = add\n",
    "        \n",
    "obj = Info(\"Ram\",34,\"Kathmandu\")\n",
    "print(obj._name)\n",
    "print(obj._age)\n",
    "print(obj._add)"
   ]
  },
  {
   "cell_type": "code",
   "execution_count": 3,
   "id": "b3511909",
   "metadata": {},
   "outputs": [
    {
     "ename": "AttributeError",
     "evalue": "'Info' object has no attribute '__name'",
     "output_type": "error",
     "traceback": [
      "\u001b[0;31m---------------------------------------------------------------------------\u001b[0m",
      "\u001b[0;31mAttributeError\u001b[0m                            Traceback (most recent call last)",
      "\u001b[0;32m/tmp/ipykernel_481/586552598.py\u001b[0m in \u001b[0;36m<module>\u001b[0;34m\u001b[0m\n\u001b[1;32m      8\u001b[0m \u001b[0;34m\u001b[0m\u001b[0m\n\u001b[1;32m      9\u001b[0m \u001b[0mobj\u001b[0m \u001b[0;34m=\u001b[0m \u001b[0mInfo\u001b[0m\u001b[0;34m(\u001b[0m\u001b[0;34m\"Ram\"\u001b[0m\u001b[0;34m,\u001b[0m\u001b[0;36m34\u001b[0m\u001b[0;34m,\u001b[0m\u001b[0;34m\"Kathmandu\"\u001b[0m\u001b[0;34m)\u001b[0m\u001b[0;34m\u001b[0m\u001b[0;34m\u001b[0m\u001b[0m\n\u001b[0;32m---> 10\u001b[0;31m \u001b[0mprint\u001b[0m\u001b[0;34m(\u001b[0m\u001b[0mobj\u001b[0m\u001b[0;34m.\u001b[0m\u001b[0m__name\u001b[0m\u001b[0;34m)\u001b[0m\u001b[0;34m\u001b[0m\u001b[0;34m\u001b[0m\u001b[0m\n\u001b[0m\u001b[1;32m     11\u001b[0m \u001b[0mprint\u001b[0m\u001b[0;34m(\u001b[0m\u001b[0mobj\u001b[0m\u001b[0;34m.\u001b[0m\u001b[0m__age\u001b[0m\u001b[0;34m)\u001b[0m\u001b[0;34m\u001b[0m\u001b[0;34m\u001b[0m\u001b[0m\n\u001b[1;32m     12\u001b[0m \u001b[0mprint\u001b[0m\u001b[0;34m(\u001b[0m\u001b[0mobj\u001b[0m\u001b[0;34m.\u001b[0m\u001b[0m__add\u001b[0m\u001b[0;34m)\u001b[0m\u001b[0;34m\u001b[0m\u001b[0;34m\u001b[0m\u001b[0m\n",
      "\u001b[0;31mAttributeError\u001b[0m: 'Info' object has no attribute '__name'"
     ]
    }
   ],
   "source": [
    "# Private members\n",
    "\n",
    "class Info:\n",
    "    def __init__ (self,name,age,add):\n",
    "        self.__name = name\n",
    "        self.__age = age\n",
    "        self.__add = add\n",
    "        \n",
    "obj = Info(\"Ram\",34,\"Kathmandu\")\n",
    "print(obj.__name)\n",
    "print(obj.__age)\n",
    "print(obj.__add)\n",
    "\n",
    "        "
   ]
  },
  {
   "cell_type": "code",
   "execution_count": 4,
   "id": "17784626",
   "metadata": {},
   "outputs": [
    {
     "name": "stdout",
     "output_type": "stream",
     "text": [
      "Ram\n",
      "34\n",
      "Kathmandu\n"
     ]
    }
   ],
   "source": [
    "# Private members\n",
    "\n",
    "class Info:\n",
    "    def __init__ (self,name,age,add):\n",
    "        self.__name = name\n",
    "        self.__age = age\n",
    "        self.__add = add\n",
    "        \n",
    "obj = Info(\"Ram\",34,\"Kathmandu\")\n",
    "print(obj._Info__name)\n",
    "print(obj._Info__age)\n",
    "print(obj._Info__add)\n",
    "\n",
    "        "
   ]
  },
  {
   "cell_type": "code",
   "execution_count": 6,
   "id": "a2532d3e",
   "metadata": {},
   "outputs": [
    {
     "name": "stdout",
     "output_type": "stream",
     "text": [
      "Enter name=ram\n",
      "Enter age = 23\n",
      "Enter add=ktm\n",
      "Hello my name is ram. I am 23\n",
      "Hello World I am ram. I am from ktm. I am 23\n"
     ]
    }
   ],
   "source": [
    "class A:\n",
    "    def __init__(self,name,age,add):\n",
    "        self.name=name\n",
    "        self._age = age\n",
    "        self.__add = add\n",
    "    def a(self):\n",
    "        print(f\"Hello World I am {self.name}. I am from {self.__add}. I am {self._age}\")\n",
    "        \n",
    "class B(A):\n",
    "    def info(self):\n",
    "        print(f\"Hello my name is {self.name}. I am {self._age}\")\n",
    "        \n",
    "name = input(\"Enter name=\")\n",
    "age = int(input(\"Enter age = \"))\n",
    "add = input(\"Enter add=\")\n",
    "\n",
    "obj = B(name,age,add)\n",
    "obj.info()\n",
    "obj.a()\n",
    "        "
   ]
  },
  {
   "cell_type": "code",
   "execution_count": 7,
   "id": "2424659f",
   "metadata": {},
   "outputs": [
    {
     "name": "stdout",
     "output_type": "stream",
     "text": [
      "Hello World I am Ram. I am from Kathmandu. I am 34\n"
     ]
    }
   ],
   "source": [
    "class A:\n",
    "    def __init__ (self,add):\n",
    "        self._add = add\n",
    "    def address(self):\n",
    "        print(f\"I am from {self,add}\")\n",
    "\n",
    "class B:\n",
    "    def __init__ (self,age):\n",
    "        self._age = age\n",
    "    def ages(self):\n",
    "        print(f\"I am {self.age}\")\n",
    "\n",
    "class C(A,B):\n",
    "    def __init__ (self,name,age,add):\n",
    "        self.__name = name\n",
    "        B. __init__ (self,age)\n",
    "        A. __init__ (self,add)\n",
    "        \n",
    "    def info (self):\n",
    "        print(f\"Hello World I am {self.__name}. I am from {self._add}. I am {self._age}\")\n",
    "\n",
    "obj = C(\"Ram\",34,\"Kathmandu\")\n",
    "obj.info()"
   ]
  },
  {
   "cell_type": "code",
   "execution_count": 11,
   "id": "af1edad5",
   "metadata": {},
   "outputs": [
    {
     "name": "stdout",
     "output_type": "stream",
     "text": [
      "Enter name=ram\n",
      "Enter add=23\n",
      " Hello my name is ram. I am from 23\n"
     ]
    }
   ],
   "source": [
    "class A:\n",
    "    def __init__(self,name,add):\n",
    "        self.name=name\n",
    "        self.add = add\n",
    "    def a(self):\n",
    "        return f\" Hello my name is {self.name}.\"\n",
    "        \n",
    "class B(A):\n",
    "    def info(self):\n",
    "#         print(super().a())\n",
    "\n",
    "        print(super().a(),f\"I am from {self.add}\")\n",
    "        \n",
    "name = input(\"Enter name=\")\n",
    "add = input(\"Enter add=\")\n",
    "\n",
    "obj = B(name,add)\n",
    "obj.info()\n",
    "        "
   ]
  },
  {
   "cell_type": "code",
   "execution_count": 12,
   "id": "a81ed551",
   "metadata": {},
   "outputs": [
    {
     "data": {
      "text/plain": [
       "[['Ram', 23, 'Kathmandu'], ['Shyam', 34, 'Palpa']]"
      ]
     },
     "execution_count": 12,
     "metadata": {},
     "output_type": "execute_result"
    }
   ],
   "source": [
    "[['Ram',23],\n",
    "['Shyam',34]]"
   ]
  },
  {
   "cell_type": "code",
   "execution_count": 13,
   "id": "246b977e",
   "metadata": {},
   "outputs": [],
   "source": [
    "class A:\n",
    "    pass\n",
    "\n",
    "class B:\n",
    "    pass\n",
    "\n",
    "class C(A,B):\n",
    "    pass\n",
    "\n",
    "obj = C()\n"
   ]
  },
  {
   "cell_type": "code",
   "execution_count": null,
   "id": "e14583e6",
   "metadata": {},
   "outputs": [],
   "source": [
    "class A:\n",
    "    def __init__ (self,name):\n",
    "        self.name = name\n",
    "    def name(self):\n",
    "        print(f\"I am {self,name}\")\n",
    "\n",
    "class B:\n",
    "    def __init__ (self,age):\n",
    "        self.age = age\n",
    "    def age (self):\n",
    "        print(f\"I am {self,age}\")\n",
    "        \n",
    "class C(A,B):\n",
    "    def __init__ (self,name,age):\n",
    "        self.name = name\n"
   ]
  }
 ],
 "metadata": {
  "kernelspec": {
   "display_name": "Python 3 (ipykernel)",
   "language": "python",
   "name": "python3"
  },
  "language_info": {
   "codemirror_mode": {
    "name": "ipython",
    "version": 3
   },
   "file_extension": ".py",
   "mimetype": "text/x-python",
   "name": "python",
   "nbconvert_exporter": "python",
   "pygments_lexer": "ipython3",
   "version": "3.9.7"
  }
 },
 "nbformat": 4,
 "nbformat_minor": 5
}
