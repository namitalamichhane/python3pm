{
 "cells": [
  {
   "cell_type": "code",
   "execution_count": 1,
   "id": "952beb2e",
   "metadata": {},
   "outputs": [],
   "source": [
    "# if <condition>:\n",
    "#     <operations>\n",
    "# elif <condition>:\n",
    "#     <operations>\n",
    "# elif <condition>:\n",
    "#     <operations>\n",
    "# else:\n",
    "# <operations>"
   ]
  },
  {
   "cell_type": "code",
   "execution_count": 2,
   "id": "6e79c8ea",
   "metadata": {},
   "outputs": [
    {
     "name": "stdout",
     "output_type": "stream",
     "text": [
      "Hello World\n"
     ]
    }
   ],
   "source": [
    "if True:\n",
    "    print(\"Hello World\")\n",
    "    "
   ]
  },
  {
   "cell_type": "code",
   "execution_count": 4,
   "id": "13256a46",
   "metadata": {},
   "outputs": [
    {
     "name": "stdout",
     "output_type": "stream",
     "text": [
      "Enter x=10\n",
      "even\n"
     ]
    }
   ],
   "source": [
    "x= int(input(\"Enter x=\"))\n",
    "if x%2 == 0:\n",
    "    print (\"even\")\n",
    "else:\n",
    "    Print(\"odd\")"
   ]
  },
  {
   "cell_type": "code",
   "execution_count": 7,
   "id": "54bb4929",
   "metadata": {},
   "outputs": [
    {
     "name": "stdout",
     "output_type": "stream",
     "text": [
      "Enter x=10\n",
      "Enter y=10\n",
      "Both are equal\n"
     ]
    }
   ],
   "source": [
    "x= int(input(\"Enter x=\"))\n",
    "y= int(input(\"Enter y=\"))\n",
    "if x>y:\n",
    "    print(x,\"is greater.\")\n",
    "elif y>x:\n",
    "    print(y,'is greater')\n",
    "else:\n",
    "        print(\"Both are equal\")\n",
    "        "
   ]
  },
  {
   "cell_type": "code",
   "execution_count": 8,
   "id": "dd2fa6cd",
   "metadata": {},
   "outputs": [
    {
     "name": "stdout",
     "output_type": "stream",
     "text": [
      "Enter x=10\n",
      "Enter y=2\n",
      "Enter + - * //\n",
      "5.0\n"
     ]
    }
   ],
   "source": [
    "a=int(input(\"Enter x=\"))\n",
    "b=int(input(\"Enter y=\"))\n",
    "o=input(\"Enter + - * /\")\n",
    "\n",
    "if o  == \"+\":\n",
    "    print(a+b)\n",
    "elif o ==\"-\":\n",
    "    print (a-b)\n",
    "elif o == \"*\":\n",
    "    print (a*b)\n",
    "elif o == \"/\":\n",
    "    print (a/b)\n",
    "else:\n",
    "    print(\"Invalid operator\")\n",
    "    "
   ]
  },
  {
   "cell_type": "code",
   "execution_count": 11,
   "id": "341c15df",
   "metadata": {},
   "outputs": [],
   "source": [
    "# and &\n",
    "# print ( True and False)\n",
    "\n",
    "# or /\n",
    "# print ( True or False)"
   ]
  },
  {
   "cell_type": "code",
   "execution_count": 13,
   "id": "4d87ab3c",
   "metadata": {},
   "outputs": [
    {
     "name": "stdout",
     "output_type": "stream",
     "text": [
      "Enter x=11\n",
      "Enter y=0\n",
      "Enter + - * //\n",
      "The value of b cannot be zero.\n"
     ]
    }
   ],
   "source": [
    "a=int(input(\"Enter x=\"))\n",
    "b=int(input(\"Enter y=\"))\n",
    "o=input(\"Enter + - * /\")\n",
    "\n",
    "if o  == \"+\":\n",
    "    print (a+b)\n",
    "elif o ==\"-\":\n",
    "    print (a-b)\n",
    "elif o == \"*\":\n",
    "    print (a*b)\n",
    "elif (o == \"/\") and (b!= 0):\n",
    "    print (a/b)\n",
    "elif (o == \"/\") and (b == 0):\n",
    "    print (\"The value of b cannot be zero.\")\n",
    "else:\n",
    "    print(\"Invalid operator\")\n",
    "    "
   ]
  },
  {
   "cell_type": "code",
   "execution_count": 15,
   "id": "6fa19588",
   "metadata": {},
   "outputs": [
    {
     "name": "stdout",
     "output_type": "stream",
     "text": [
      "Enter per=60\n",
      "The grade is B\n"
     ]
    }
   ],
   "source": [
    "per = (float(input(\"Enter per=\")))\n",
    "if (per > 60) or (per == 60):\n",
    "    print(\"The grade is B\")"
   ]
  },
  {
   "cell_type": "code",
   "execution_count": 16,
   "id": "34a08b14",
   "metadata": {},
   "outputs": [],
   "source": [
    "# # nested if\n",
    "# if<condition>:\n",
    "#     if <condition>:\n",
    "#         <operations>\n",
    "#     elif <condition>:\n",
    "#         <operations>\n",
    "#     else:\n",
    "#         <operations>\n",
    "        \n",
    "# else:\n",
    "#     <operations>\n",
    "    \n",
    "        "
   ]
  },
  {
   "cell_type": "code",
   "execution_count": 19,
   "id": "cb101ab0",
   "metadata": {},
   "outputs": [
    {
     "name": "stdout",
     "output_type": "stream",
     "text": [
      "Enter x=11\n",
      "The no is +ve and odd no.\n"
     ]
    }
   ],
   "source": [
    "x= int (input(\"Enter x=\"))\n",
    "if x>0:\n",
    "    if x %2 == 0:\n",
    "        print (\"The no is +ve and even no.\")\n",
    "    else:\n",
    "            print(\"The no is +ve and odd no.\")\n",
    "else:\n",
    "    print(\"The no is -ve\")\n",
    "    "
   ]
  },
  {
   "cell_type": "code",
   "execution_count": 20,
   "id": "75a70a78",
   "metadata": {},
   "outputs": [
    {
     "name": "stdout",
     "output_type": "stream",
     "text": [
      "Enter x=10\n",
      "Enter y=0\n",
      "Enter + - * //\n",
      "The value of b can not be zero.\n"
     ]
    }
   ],
   "source": [
    "a=int(input(\"Enter x=\"))\n",
    "b=int(input(\"Enter y=\"))\n",
    "o=input(\"Enter + - * /\")\n",
    "\n",
    "if o  == \"+\":\n",
    "    print(a+b)\n",
    "elif o ==\"-\":\n",
    "    print (a-b)\n",
    "elif o == \"*\":\n",
    "    print (a*b)\n",
    "elif o == \"/\":\n",
    "    if b !=0:\n",
    "        print (a/b)\n",
    "    else:\n",
    "        print(\"The value of b can not be zero.\")\n",
    "\n",
    "else:\n",
    "    print(\"Invalid operator\")\n",
    "    "
   ]
  },
  {
   "cell_type": "code",
   "execution_count": null,
   "id": "7f7b9183",
   "metadata": {},
   "outputs": [],
   "source": []
  }
 ],
 "metadata": {
  "kernelspec": {
   "display_name": "Python 3 (ipykernel)",
   "language": "python",
   "name": "python3"
  },
  "language_info": {
   "codemirror_mode": {
    "name": "ipython",
    "version": 3
   },
   "file_extension": ".py",
   "mimetype": "text/x-python",
   "name": "python",
   "nbconvert_exporter": "python",
   "pygments_lexer": "ipython3",
   "version": "3.9.7"
  }
 },
 "nbformat": 4,
 "nbformat_minor": 5
}
